{
 "cells": [
  {
   "cell_type": "markdown",
   "metadata": {},
   "source": [
    "Import stuff"
   ]
  },
  {
   "cell_type": "code",
   "execution_count": null,
   "metadata": {},
   "outputs": [],
   "source": [
    "import os\n",
    "import topogenesis as tg\n",
    "import pyvista as pv\n",
    "import trimesh as tm\n",
    "import numpy as np\n",
    "\n",
    "#pv.set_jupyter_backend(\"ipyvtklink\")\n",
    "\n",
    "# convert mesh to pv_mesh\n",
    "def tri_to_pv(tri_mesh):\n",
    "    faces = np.pad(tri_mesh.faces, ((0, 0),(1,0)), 'constant', constant_values=3)\n",
    "    pv_mesh = pv.PolyData(tri_mesh.vertices, faces)\n",
    "    return pv_mesh"
   ]
  },
  {
   "cell_type": "markdown",
   "metadata": {},
   "source": [
    "Import Envelope Lattice/streetnetwork"
   ]
  },
  {
   "cell_type": "code",
   "execution_count": null,
   "metadata": {},
   "outputs": [],
   "source": [
    "# loading the lattice from csv\n",
    "lattice_path = os.path.relpath('../data/meshes/voxelized_envelope_highres.csv')\n",
    "envelope_lattice = tg.lattice_from_csv(lattice_path)\n",
    "envelope_lattice.shape\n",
    "\n",
    "env_cens = envelope_lattice.centroids_threshold(-1)\n",
    "\n",
    "print (env_cens)\n",
    "\n",
    "# import the streetnetwork as a point cloud (workshop file, temporary)\n",
    "street_path = os.path.relpath(\"../data/meshes/street_points.csv\")\n",
    "street_pc = tg.cloud_from_csv(street_path)\n",
    "\n",
    "print (street_pc)\n",
    "\n",
    "\n",
    "#importing the context mesh\n",
    "\n",
    "context_path = os.path.relpath('../data/meshes/immediate_context.obj')\n",
    "context_mesh = tm.load(context_path)"
   ]
  },
  {
   "cell_type": "markdown",
   "metadata": {},
   "source": [
    "Calculate euclidean distance between voxels and the street"
   ]
  },
  {
   "cell_type": "code",
   "execution_count": null,
   "metadata": {},
   "outputs": [],
   "source": [
    "# extracting the centroid of all voxels\n",
    "env_cens = envelope_lattice.centroids_threshold(-1)\n",
    "#print(env_cens.size)\n",
    "# initializing the distance matrix\n",
    "dist_m = []\n",
    "# for each voxel ...\n",
    "for voxel_cen in env_cens:\n",
    "    # initializing the distance vector (per each voxel)\n",
    "    dist_v = []\n",
    "    # for each street point ...\n",
    "    for street_point in street_pc:\n",
    "        # find the difference vector\n",
    "        diff = voxel_cen - street_point\n",
    "        # raise the components to the power of two\n",
    "        diff_p2 = diff**2\n",
    "        # sum the components\n",
    "        diff_p2s = diff_p2.sum()\n",
    "        # compute the square root \n",
    "        dist = diff_p2s**0.5\n",
    "        # add the distance to the distance vector\n",
    "        dist_v.append(dist)\n",
    "    # add the distance vector to the distance matrix\n",
    "    dist_m.append(dist_v)\n",
    "# change the distance matrix type, from list to array\n",
    "dist_m = np.array(dist_m)\n",
    "#print(dist_m.size, dist_m.shape)\n",
    "\n",
    "# find the distance to the closest street point for each voxel\n",
    "min_dist = dist_m.min(axis=1)\n",
    "\n",
    "np_lat = np.array(env_cens)\n",
    "\n",
    "# convert the minimum distance list to a lattice\n",
    "min_dist_array = min_dist.reshape(envelope_lattice.shape)\n",
    "min_dist_lat = tg.to_lattice(min_dist_array, envelope_lattice)\n",
    "\n",
    "# zero the value of the exterior voxels\n",
    "envelope_eu_dist_lattice = min_dist_lat * envelope_lattice\n"
   ]
  },
  {
   "cell_type": "markdown",
   "metadata": {},
   "source": [
    "Saving the eucledean distance between voxels and street points (min_dist_lat)"
   ]
  },
  {
   "cell_type": "code",
   "execution_count": null,
   "metadata": {},
   "outputs": [],
   "source": [
    "min_dist_lat.to_csv('../data/fields/euclidean_distance.csv')"
   ]
  },
  {
   "cell_type": "markdown",
   "metadata": {},
   "source": [
    "Plotting"
   ]
  },
  {
   "cell_type": "code",
   "execution_count": null,
   "metadata": {},
   "outputs": [],
   "source": [
    "# initiating the plotter\n",
    "p = pv.Plotter()\n",
    "\n",
    "l = envelope_eu_dist_lattice * envelope_lattice\n",
    "\n",
    "# remapping\n",
    "l = 250 * (l - l.min()) / l.max()\n",
    "\n",
    "# Create the spatial reference\n",
    "grid = pv.UniformGrid()\n",
    "\n",
    "# Set the grid dimensions: shape because we want to inject our values\n",
    "grid.dimensions = l.shape\n",
    "# The bottom left corner of the data set\n",
    "grid.origin = l.minbound\n",
    "# These are the cell sizes along each axis\n",
    "grid.spacing = l.unit\n",
    "\n",
    "# Add the data values to the cell data\n",
    "grid.point_arrays[\"Distance\"] = l.flatten(order=\"F\")  # Flatten the Lattice\n",
    "\n",
    "# adding the meshes\n",
    "p.add_mesh(tri_to_pv(context_mesh), opacity=0.1, style='wireframe')\n",
    "    \n",
    "# fast visualization of the point cloud\n",
    "street_pc.fast_notebook_vis(p)\n",
    "\n",
    "# adding the volume\n",
    "opacity = np.array([0,0.6,0.6,0.6,0.6,0.6,0.6]) * 1.5\n",
    "p.add_volume(grid, cmap=\"coolwarm\", opacity=opacity, shade=True, show_scalar_bar=False)\n",
    "\n",
    "# plotting\n",
    "p.show()"
   ]
  },
  {
   "cell_type": "markdown",
   "metadata": {},
   "source": [
    "Calculating the actual loudness level that is caused by the street"
   ]
  },
  {
   "cell_type": "code",
   "execution_count": null,
   "metadata": {},
   "outputs": [],
   "source": [
    "str_loud_lev = 73.4 #dB(a)\n",
    "\n",
    "#calculating the actual loudness level\n",
    "# act_loud_lev = ((1 / min_dist_lat) **2) * str_loud_lev\n",
    "\n",
    "act_loud_lev = str_loud_lev - (10 * np.log10((2 * np.pi * min_dist_lat) / 2))\n",
    "\n",
    "# convert the minimum distance list to a lattice\n",
    "min_loud_array = act_loud_lev.reshape(envelope_lattice.shape)\n",
    "min_loud_lat = tg.to_lattice(min_loud_array, envelope_lattice)\n",
    "\n",
    "# zero the value of the exterior voxels\n",
    "envelope_eu_loud_lattice = min_loud_lat * envelope_lattice\n",
    "\n"
   ]
  },
  {
   "cell_type": "markdown",
   "metadata": {},
   "source": [
    "Import Football field points"
   ]
  },
  {
   "cell_type": "code",
   "execution_count": null,
   "metadata": {},
   "outputs": [],
   "source": [
    "# import the football field border as a point cloud, fifa being football\n",
    "fifa = tg.cloud_from_csv('../data/meshes/football_field_points.csv')"
   ]
  },
  {
   "cell_type": "code",
   "execution_count": null,
   "metadata": {},
   "outputs": [],
   "source": [
    "# initiating the plotter\n",
    "p = pv.Plotter()\n",
    "\n",
    "# fast visualization of the lattice\n",
    "envelope_lattice.fast_vis(p)\n",
    "\n",
    "# fast visualization of the point cloud\n",
    "fifa.fast_notebook_vis(p)\n",
    "\n",
    "# adding the meshes\n",
    "p.add_mesh(tri_to_pv(context_mesh), color='#aaaaaa')\n",
    "\n",
    "# plotting\n",
    "p.show(use_ipyvtk=False)"
   ]
  },
  {
   "cell_type": "markdown",
   "metadata": {},
   "source": [
    "Calculate the eucledean distance between the voxels and the football field"
   ]
  },
  {
   "cell_type": "code",
   "execution_count": null,
   "metadata": {},
   "outputs": [],
   "source": [
    "# extracting the centroid of all voxels\n",
    "env_cens = envelope_lattice.centroids_threshold(-1)\n",
    "\n",
    "# initializing the distance matrix\n",
    "dist_fifa_m = []\n",
    "# for each voxel ...\n",
    "for voxel_cen in env_cens:\n",
    "    # initializing the distance vector (per each voxel)\n",
    "    dist_v = []\n",
    "    # for each street point ...\n",
    "    for fifa_point in fifa:\n",
    "        # find the difference vector\n",
    "        diff = voxel_cen - fifa_point\n",
    "        # raise the components to the power of two\n",
    "        diff_p2 = diff**2\n",
    "        # sum the components\n",
    "        diff_p2s = diff_p2.sum()\n",
    "        # compute the square root \n",
    "        dist = diff_p2s**0.5\n",
    "        # add the distance to the distance vector\n",
    "        dist_v.append(dist)\n",
    "    # add the distance vector to the distance matrix\n",
    "    dist_fifa_m.append(dist_v)\n",
    "# change the distance matrix type, from list to array\n",
    "dist_fifa_m = np.array(dist_fifa_m)\n",
    "\n",
    "# find the distance to the closest street point for each voxel\n",
    "min_dist = dist_fifa_m.min(axis=1)\n",
    "\n",
    "np_lat = np.array(env_cens)\n",
    "\n",
    "# convert the minimum distance list to a lattice\n",
    "min_dist_array = min_dist.reshape(envelope_lattice.shape)\n",
    "min_fifa_dist_lat = tg.to_lattice(min_dist_array, envelope_lattice)\n",
    "\n",
    "# zero the value of the exterior voxels\n",
    "envelope_fifa_eu_dist_lattice = min_dist_lat * envelope_lattice"
   ]
  },
  {
   "cell_type": "code",
   "execution_count": null,
   "metadata": {},
   "outputs": [],
   "source": [
    "# initiating the plotter\n",
    "p = pv.Plotter()\n",
    "\n",
    "l = envelope_fifa_eu_dist_lattice * envelope_lattice\n",
    "\n",
    "# remapping\n",
    "l = 250 * (l - l.min()) / l.max()\n",
    "\n",
    "# Create the spatial reference\n",
    "grid = pv.UniformGrid()\n",
    "\n",
    "# Set the grid dimensions: shape because we want to inject our values\n",
    "grid.dimensions = l.shape\n",
    "# The bottom left corner of the data set\n",
    "grid.origin = l.minbound\n",
    "# These are the cell sizes along each axis\n",
    "grid.spacing = l.unit\n",
    "\n",
    "# Add the data values to the cell data\n",
    "grid.point_arrays[\"Distance\"] = l.flatten(order=\"F\")  # Flatten the Lattice\n",
    "\n",
    "# adding the meshes\n",
    "p.add_mesh(tri_to_pv(context_mesh), opacity=0.1, style='wireframe')\n",
    "    \n",
    "# fast visualization of the point cloud\n",
    "fifa.fast_notebook_vis(p)\n",
    "\n",
    "# adding the volume\n",
    "opacity = np.array([0,0.6,0.6,0.6,0.6,0.6,0.6]) * 1.5\n",
    "p.add_volume(grid, cmap=\"coolwarm\", opacity=opacity, shade=True, show_scalar_bar=False)\n",
    "\n",
    "# plotting\n",
    "p.show()"
   ]
  },
  {
   "cell_type": "markdown",
   "metadata": {},
   "source": [
    "Calculate the noise that is caused by the football field"
   ]
  },
  {
   "cell_type": "code",
   "execution_count": null,
   "metadata": {},
   "outputs": [],
   "source": [
    "fifa_loud_lev = 73.4 #dB(a)\n",
    "\n",
    "#calculating the actual loudness level\n",
    "# act_loud_lev = ((1 / min_dist_lat) **2) * str_loud_lev\n",
    "\n",
    "act_loud_fifa_lev = fifa_loud_lev - (10 * np.log10((2 * np.pi * min_fifa_dist_lat) / 2))\n",
    "\n",
    "# convert the minimum distance list to a lattice\n",
    "min_loud_array = act_loud_fifa_lev.reshape(envelope_lattice.shape)\n",
    "min_loud_lat = tg.to_lattice(min_loud_array, envelope_lattice)\n",
    "\n",
    "# zero the value of the exterior voxels\n",
    "envelope_fifa_eu_loud_lattice = min_loud_lat * envelope_lattice\n",
    "\n"
   ]
  },
  {
   "cell_type": "markdown",
   "metadata": {},
   "source": []
  },
  {
   "cell_type": "code",
   "execution_count": null,
   "metadata": {},
   "outputs": [],
   "source": [
    "# street noise lattice\n",
    "envelope_eu_dist_lattice\n",
    "# Football Field noise lattice\n",
    "envelope_fifa_eu_loud_lattice\n",
    "# Calculate the relative loudness level\n",
    "act_loud_lev = np.maximum(envelope_eu_loud_lattice,envelope_fifa_eu_loud_lattice)\n",
    "\n",
    "norm = np.linalg.norm(act_loud_lev)\n",
    "rel_loud_lev = act_loud_lev/norm\n",
    "print(rel_loud_lev)"
   ]
  },
  {
   "cell_type": "markdown",
   "metadata": {},
   "source": [
    "Plotting the actual loudness level (work in progress)"
   ]
  },
  {
   "cell_type": "code",
   "execution_count": null,
   "metadata": {},
   "outputs": [],
   "source": [
    "# initiating the plotter\n",
    "p = pv.Plotter()\n",
    "\n",
    "l = rel_loud_lev * envelope_lattice\n",
    "\n",
    "# remapping\n",
    "l = 250 * (l - l.min()) / l.max()\n",
    "\n",
    "# Create the spatial reference\n",
    "grid = pv.UniformGrid()\n",
    "\n",
    "# Set the grid dimensions: shape because we want to inject our values\n",
    "grid.dimensions = l.shape\n",
    "# The bottom left corner of the data set\n",
    "grid.origin = l.minbound\n",
    "# These are the cell sizes along each axis\n",
    "grid.spacing = l.unit\n",
    "\n",
    "# Add the data values to the cell data\n",
    "grid.point_arrays[\"Distance\"] = l.flatten(order=\"F\")  # Flatten the Lattice\n",
    "\n",
    "# adding the meshes\n",
    "p.add_mesh(tri_to_pv(context_mesh), opacity=0.1, style='wireframe')\n",
    "    \n",
    "# fast visualization of the point cloud\n",
    "street_pc.fast_notebook_vis(p)\n",
    "\n",
    "# fast visualization of the football points\n",
    "fifa.fast_notebook_vis(p)\n",
    "\n",
    "# adding the volume\n",
    "opacity = np.array([0,0.6,0.6,0.6,0.6,0.6,0.6]) * 1.5\n",
    "p.add_volume(grid, cmap=\"coolwarm\", opacity=opacity, shade=True, show_scalar_bar=False)\n",
    "\n",
    "# plotting\n",
    "p.show(use_ipyvtk=False)"
   ]
  },
  {
   "cell_type": "markdown",
   "metadata": {},
   "source": [
    "saving the actual loudness level (work in progress)"
   ]
  },
  {
   "cell_type": "markdown",
   "metadata": {},
   "source": [
    "Normalise and Inverse rel_loud_lev"
   ]
  },
  {
   "cell_type": "code",
   "execution_count": null,
   "metadata": {},
   "outputs": [],
   "source": [
    "rel_loud_lev2 = (1-rel_loud_lev) "
   ]
  },
  {
   "cell_type": "code",
   "execution_count": null,
   "metadata": {},
   "outputs": [],
   "source": [
    "# normalizing loudness\n",
    "min = rel_loud_lev2.min()\n",
    "rel_loud_lev2[rel_loud_lev2 == 1.] = 0.\n",
    "max = rel_loud_lev2.max()\n",
    "rel_loud_lev2 = (rel_loud_lev2 - min) / (max - min)"
   ]
  },
  {
   "cell_type": "code",
   "execution_count": null,
   "metadata": {},
   "outputs": [],
   "source": [
    "# removing all voxels that are outside of mesh\n",
    "rel_loud_lev2[rel_loud_lev2 <= 0.] = 0."
   ]
  },
  {
   "cell_type": "markdown",
   "metadata": {},
   "source": [
    "Save the relative loudness"
   ]
  },
  {
   "cell_type": "code",
   "execution_count": null,
   "metadata": {},
   "outputs": [],
   "source": [
    "rel_loud_lev2.to_csv('../data/fields/noise_approval.csv')"
   ]
  }
 ],
 "metadata": {
  "interpreter": {
   "hash": "35193bb4a499ae14c24644d010b40ff56fe483af9478781b8d520e7468034301"
  },
  "kernelspec": {
   "display_name": "Python 3.8.5 64-bit ('scds': conda)",
   "language": "python",
   "name": "python3"
  },
  "language_info": {
   "codemirror_mode": {
    "name": "ipython",
    "version": 3
   },
   "file_extension": ".py",
   "mimetype": "text/x-python",
   "name": "python",
   "nbconvert_exporter": "python",
   "pygments_lexer": "ipython3",
   "version": "3.8.5"
  },
  "orig_nbformat": 4
 },
 "nbformat": 4,
 "nbformat_minor": 2
}
