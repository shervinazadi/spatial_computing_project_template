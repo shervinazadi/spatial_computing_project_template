{
 "cells": [
  {
   "cell_type": "markdown",
   "metadata": {},
   "source": [
    "# W2 - Accessibility (Distance Fields)\n",
    "\n",
    "In this workshop we will learn the foundations to quantitatively approach spatial accessibility. We will learn about distance fields, construct a euclidean distance field, and construct a manifold distance field."
   ]
  },
  {
   "cell_type": "markdown",
   "metadata": {},
   "source": [
    "## 0. Initialization\n",
    "\n",
    "### 0.1 Importing the packages"
   ]
  },
  {
   "cell_type": "code",
   "execution_count": null,
   "metadata": {},
   "outputs": [],
   "source": [
    "import os\n",
    "import topogenesis as tg\n",
    "import pyvista as pv\n",
    "import trimesh as tm\n",
    "import numpy as np\n",
    "\n",
    "# convert mesh to pv_mesh\n",
    "def tri_to_pv(tri_mesh):\n",
    "    faces = np.pad(tri_mesh.faces, ((0, 0),(1,0)), 'constant', constant_values=3)\n",
    "    pv_mesh = pv.PolyData(tri_mesh.vertices, faces)\n",
    "    return pv_mesh"
   ]
  },
  {
   "cell_type": "markdown",
   "metadata": {},
   "source": [
    "### 0.2 import meshes"
   ]
  },
  {
   "cell_type": "code",
   "execution_count": null,
   "metadata": {},
   "outputs": [],
   "source": [
    "envelope_path = os.path.relpath('..\\data\\meshes\\compulsory_envelope.obj')\n",
    "context_path = os.path.relpath('..\\data\\meshes\\immediate_context.obj')\n",
    "\n",
    "# load the mesh from file\n",
    "envelope_mesh = tm.load(envelope_path)\n",
    "context_mesh = tm.load(context_path)\n",
    "\n",
    "# Check if the mesh is watertight\n",
    "print(envelope_mesh.is_watertight)\n",
    "print(context_mesh.is_watertight)"
   ]
  },
  {
   "cell_type": "markdown",
   "metadata": {},
   "source": [
    "### 0.3 Importing the Envelope Lattice"
   ]
  },
  {
   "cell_type": "code",
   "execution_count": null,
   "metadata": {},
   "outputs": [],
   "source": [
    "# loading the lattice from csv\n",
    "lattice_path = os.path.relpath('../data/meshes/voxelized_envelope_highres.csv')\n",
    "envelope_lattice = tg.lattice_from_csv(lattice_path)"
   ]
  },
  {
   "cell_type": "markdown",
   "metadata": {},
   "source": [
    "### 0.4 Importing the Street Points"
   ]
  },
  {
   "cell_type": "code",
   "execution_count": null,
   "metadata": {},
   "outputs": [],
   "source": [
    "# import the football field border as a point cloud, fifa being football\n",
    "fifa = tg.cloud_from_csv('../data/meshes/football_field_points.csv')"
   ]
  },
  {
   "cell_type": "code",
   "execution_count": null,
   "metadata": {},
   "outputs": [],
   "source": [
    "# initiating the plotter\n",
    "p = pv.Plotter()\n",
    "\n",
    "# fast visualization of the lattice\n",
    "envelope_lattice.fast_vis(p)\n",
    "\n",
    "# fast visualization of the point cloud\n",
    "fifa.fast_notebook_vis(p)\n",
    "\n",
    "# adding the meshes\n",
    "p.add_mesh(tri_to_pv(context_mesh), color='#aaaaaa')\n",
    "\n",
    "# plotting\n",
    "p.show(use_ipyvtk=True)"
   ]
  },
  {
   "cell_type": "markdown",
   "metadata": {},
   "source": [
    "## 1. Euclidean Distance Lattice\n",
    "\n",
    "### 1.1 Distance Matrix"
   ]
  },
  {
   "cell_type": "code",
   "execution_count": null,
   "metadata": {},
   "outputs": [],
   "source": [
    "# extracting the centroid of all voxels\n",
    "env_cens = envelope_lattice.centroids_threshold(-1)\n",
    "\n",
    "# initializing the distance matrix\n",
    "dist_m = []\n",
    "# for each voxel ...\n",
    "for voxel_cen in env_cens:\n",
    "    # initializing the distance vector (per each voxel)\n",
    "    dist_v = []\n",
    "    # for each street point ...\n",
    "    for fifa_point in fifa:\n",
    "        # find the difference vector\n",
    "        diff = voxel_cen - fifa_point\n",
    "        # raise the components to the power of two\n",
    "        diff_p2 = diff**2\n",
    "        # sum the components\n",
    "        diff_p2s = diff_p2.sum()\n",
    "        # compute the square root \n",
    "        dist = diff_p2s**0.5\n",
    "        # add the distance to the distance vector\n",
    "        dist_v.append(dist)\n",
    "    # add the distance vector to the distance matrix\n",
    "    dist_m.append(dist_v)\n",
    "# change the distance matrix type, from list to array\n",
    "dist_m = np.array(dist_m)\n"
   ]
  },
  {
   "cell_type": "markdown",
   "metadata": {},
   "source": [
    "### 1.2 Distance to Closest Street Point"
   ]
  },
  {
   "cell_type": "code",
   "execution_count": null,
   "metadata": {},
   "outputs": [],
   "source": [
    "# find the distance to the closest football field point for each voxel\n",
    "min_dist = dist_m.min(axis=1)\n",
    "# convert the minimum distance list to a lattice\n",
    "fifa_eu_distance_lattice = tg.to_lattice(min_dist.reshape(envelope_lattice.shape), envelope_lattice)\n",
    "# zero the value of the exterior voxels\n",
    "envelope_eu_dist_lattice = fifa_eu_distance_lattice * envelope_lattice"
   ]
  },
  {
   "cell_type": "markdown",
   "metadata": {},
   "source": [
    "## 2 Manifold Distance Lattice\n",
    "\n",
    "### 2.1 Selecting the Closest Voxels"
   ]
  },
  {
   "cell_type": "code",
   "execution_count": null,
   "metadata": {},
   "outputs": [],
   "source": [
    "envelope_lattice.unit[0]\n"
   ]
  },
  {
   "cell_type": "code",
   "execution_count": null,
   "metadata": {},
   "outputs": [],
   "source": [
    "# selecting the closest voxels by setting a threshold \n",
    "fifa_connection_lattice = (0 < envelope_eu_dist_lattice) * (envelope_eu_dist_lattice < envelope_lattice.unit[0]*1.4)\n",
    "fifa_connection_lattice.shape"
   ]
  },
  {
   "cell_type": "code",
   "execution_count": null,
   "metadata": {},
   "outputs": [],
   "source": [
    "# initiating the plotter\n",
    "p = pv.Plotter()\n",
    "\n",
    "# fast visualization of the lattice\n",
    "fifa_connection_lattice.fast_vis(p)\n",
    "\n",
    "\n",
    "# adding the meshes\n",
    "p.add_mesh(tri_to_pv(context_mesh), color='#aaaaaa')\n",
    "\n",
    "# plotting\n",
    "p.show(use_ipyvtk=True)"
   ]
  },
  {
   "cell_type": "markdown",
   "metadata": {},
   "source": [
    "### 2.2. The Stencil"
   ]
  },
  {
   "cell_type": "code",
   "execution_count": null,
   "metadata": {},
   "outputs": [],
   "source": [
    "# creating neighborhood definition\n",
    "stencil = tg.create_stencil(\"von_neumann\", 1, 1)\n",
    "# setting the center to zero\n",
    "stencil.set_index([0,0,0], 0)\n",
    "\n",
    "print(stencil)"
   ]
  },
  {
   "cell_type": "markdown",
   "metadata": {},
   "source": [
    "### 2.3 Initializing the Manifold Distance Lattice"
   ]
  },
  {
   "cell_type": "code",
   "execution_count": null,
   "metadata": {},
   "outputs": [],
   "source": [
    "# retrieve the neighbour list of each cell\n",
    "neighs = fifa_connection_lattice.find_neighbours(stencil)\n",
    "\n",
    "# set the maximum distance to sum of the size of the lattice in all dimensions.\n",
    "max_dist = np.sum(fifa_connection_lattice.shape)\n",
    "\n",
    "# initialize the football field network distance lattice with all the adjacent to football field cells as 0, and all other cells as maximum distance possible\n",
    "mn_dist_lattice = 1 - fifa_connection_lattice\n",
    "mn_dist_lattice[mn_dist_lattice==1] = max_dist\n",
    "\n",
    "# flatten the distance lattice for easy access\n",
    "mn_dist_lattice_flat = mn_dist_lattice.flatten()\n",
    "\n",
    "# flatten the envelope lattice\n",
    "env_lat_flat = envelope_lattice.flatten()"
   ]
  },
  {
   "cell_type": "markdown",
   "metadata": {},
   "source": [
    "### 2.4 Breadth-First Traversal"
   ]
  },
  {
   "cell_type": "code",
   "execution_count": null,
   "metadata": {},
   "outputs": [],
   "source": [
    "# main loop for breath-first traversal\n",
    "for i in range(1, max_dist):\n",
    "    # find the neighbours of the previous step\n",
    "    next_step = neighs[mn_dist_lattice_flat == i - 1]\n",
    "    # find the unique neighbours\n",
    "    next_unq_step = np.unique(next_step.flatten())\n",
    "    # check if the neighbours of the next step are inside the envelope\n",
    "    validity_condition = env_lat_flat[next_unq_step]\n",
    "    # select the valid neighbours\n",
    "    next_valid_step = next_unq_step[validity_condition]\n",
    "    # make a copy of the lattice to prevent overwriting in the memory\n",
    "    mn_nex_dist_lattice_flat = np.copy(mn_dist_lattice_flat)\n",
    "    # set the next step cells to the current distance\n",
    "    mn_nex_dist_lattice_flat[next_valid_step] = i\n",
    "    # find the minimum of the current distance and previous distances to avoid overwriting previous steps\n",
    "    mn_dist_lattice_flat = np.minimum(mn_dist_lattice_flat, mn_nex_dist_lattice_flat)\n",
    "    \n",
    "    # check how many of the cells have not been traversed yet\n",
    "    filled_check = mn_dist_lattice_flat * env_lat_flat == max_dist\n",
    "    # if all the cells have been traversed, break the loop\n",
    "    if filled_check.sum() == 0:\n",
    "        print(i)\n",
    "        break\n",
    "\n",
    "# reshape and construct a lattice from the football field network distance list\n",
    "mn_dist_lattice = mn_dist_lattice_flat.reshape(mn_dist_lattice.shape)"
   ]
  },
  {
   "cell_type": "code",
   "execution_count": null,
   "metadata": {},
   "outputs": [],
   "source": [
    "# set the lattice to be visualized\n",
    "l = mn_dist_lattice * envelope_lattice\n",
    "# remapping\n",
    "l =(l - l.min()) / (l.max()-l.min())\n",
    "\n",
    "# initiating the plotter\n",
    "p = pv.Plotter(notebook=True)\n",
    "\n",
    "# Create the spatial reference\n",
    "grid = pv.UniformGrid()\n",
    "\n",
    "# Set the grid dimensions: shape because we want to inject our values\n",
    "grid.dimensions = l.shape\n",
    "# The bottom left corner of the data set\n",
    "grid.origin = l.minbound\n",
    "# These are the cell sizes along each axis\n",
    "grid.spacing = l.unit\n",
    "\n",
    "# Add the data values to the cell data\n",
    "grid.point_arrays[\"football field distance\"] = l.flatten(order=\"F\")  # Flatten the Lattice\n",
    "\n",
    "# adding the meshes\n",
    "p.add_mesh(tri_to_pv(context_mesh), opacity=0.1, style='wireframe')\n",
    "    \n",
    "# fast visualization of the point cloud\n",
    "fifa.fast_notebook_vis(p)\n",
    "    \n",
    "# adding the volume\n",
    "opacity = np.array([0,0.6,0.6,0.6,0.6,0.6,0.6])*1.5\n",
    "p.add_volume(grid, cmap=\"coolwarm\",opacity=opacity, shade=True)\n",
    "\n",
    "# plotting\n",
    "p.show(use_ipyvtk=True)"
   ]
  },
  {
   "cell_type": "code",
   "execution_count": null,
   "metadata": {},
   "outputs": [],
   "source": [
    "# 2.5 Inversing the field and normalising the field.\n",
    "# this ensures the values that have a higher proximity to the football field have a higher value betwwen [0,1]. "
   ]
  },
  {
   "cell_type": "code",
   "execution_count": null,
   "metadata": {},
   "outputs": [],
   "source": [
    "mn_dist_lattice_norm_inverse=(1-l)*envelope_lattice"
   ]
  },
  {
   "cell_type": "code",
   "execution_count": null,
   "metadata": {},
   "outputs": [],
   "source": [
    "# set the lattice to be visualized\n",
    "t=mn_dist_lattice_norm_inverse\n",
    "# initiating the plotter\n",
    "p = pv.Plotter(notebook=True)\n",
    "\n",
    "# Create the spatial reference\n",
    "grid = pv.UniformGrid()\n",
    "\n",
    "# Set the grid dimensions: shape because we want to inject our values\n",
    "grid.dimensions = t.shape\n",
    "# The bottom left corner of the data set\n",
    "grid.origin = t.minbound\n",
    "# These are the cell sizes along each axis\n",
    "grid.spacing = t.unit\n",
    "\n",
    "# Add the data values to the cell data\n",
    "grid.point_arrays[\"football field distance normalised and inversed\"] = t.flatten(order=\"F\")  # Flatten the Lattice\n",
    "\n",
    "# adding the meshes\n",
    "p.add_mesh(tri_to_pv(context_mesh), opacity=0.1, style='wireframe')\n",
    "    \n",
    "# fast visualization of the point cloud\n",
    "fifa.fast_notebook_vis(p)\n",
    "    \n",
    "# adding the volume\n",
    "opacity = np.array([0,0.6,0.6,0.6,0.6,0.6,0.6])*1.5\n",
    "p.add_volume(grid, cmap=\"coolwarm\",opacity=opacity, shade=True)\n",
    "\n",
    "# plotting\n",
    "p.show(use_ipyvtk=True)"
   ]
  },
  {
   "cell_type": "markdown",
   "metadata": {},
   "source": [
    "## Credits"
   ]
  },
  {
   "cell_type": "code",
   "execution_count": null,
   "metadata": {},
   "outputs": [],
   "source": [
    "# save the normalised and inversed football field distance lattice to csv\n",
    "\n",
    "csv_path = os.path.relpath('../data/fields/football_field.csv')\n",
    "mn_dist_lattice_norm_inverse.to_csv(csv_path)"
   ]
  },
  {
   "cell_type": "code",
   "execution_count": null,
   "metadata": {},
   "outputs": [],
   "source": [
    "__author__ = \"Shervin Azadi\"\n",
    "__license__ = \"MIT\"\n",
    "__version__ = \"1.0\"\n",
    "__url__ = \"https://github.com/shervinazadi/earthy_workshops\"\n",
    "__summary__ = \"Earthy Design Studio\""
   ]
  },
  {
   "cell_type": "code",
   "execution_count": null,
   "metadata": {},
   "outputs": [],
   "source": []
  }
 ],
 "metadata": {
  "interpreter": {
   "hash": "c20f1e98b59e365040548753ef94c89861e7fcfcb2c26ea4b3d1e6b63d1d9946"
  },
  "kernelspec": {
   "display_name": "Python 3.8.5 64-bit ('earthy_test': conda)",
   "name": "python3"
  },
  "language_info": {
   "codemirror_mode": {
    "name": "ipython",
    "version": 3
   },
   "file_extension": ".py",
   "mimetype": "text/x-python",
   "name": "python",
   "nbconvert_exporter": "python",
   "pygments_lexer": "ipython3",
   "version": "3.8.5"
  }
 },
 "nbformat": 4,
 "nbformat_minor": 2
}
