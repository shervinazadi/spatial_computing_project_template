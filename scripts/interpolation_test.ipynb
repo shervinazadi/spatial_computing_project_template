{
 "cells": [
  {
   "cell_type": "code",
   "execution_count": 2,
   "metadata": {},
   "outputs": [],
   "source": [
    "import os\n",
    "import topogenesis as tg\n",
    "import pyvista as pv\n",
    "import trimesh as tm\n",
    "import numpy as np\n",
    "\n",
    "# convert mesh to pv_mesh\n",
    "def tri_to_pv(tri_mesh):\n",
    "    faces = np.pad(tri_mesh.faces, ((0, 0),(1,0)), 'constant', constant_values=3)\n",
    "    pv_mesh = pv.PolyData(tri_mesh.vertices, faces)\n",
    "    return pv_mesh"
   ]
  },
  {
   "cell_type": "code",
   "execution_count": 3,
   "metadata": {},
   "outputs": [],
   "source": [
    "lattice_path = os.path.relpath('../data/fields/sky_view_factor.csv')\n",
    "envelope_lattice = tg.lattice_from_csv(lattice_path)"
   ]
  },
  {
   "cell_type": "code",
   "execution_count": 4,
   "metadata": {},
   "outputs": [
    {
     "data": {
      "text/plain": [
       "(16, 9, 5)"
      ]
     },
     "execution_count": 4,
     "metadata": {},
     "output_type": "execute_result"
    }
   ],
   "source": [
    "envelope_lattice.shape"
   ]
  },
  {
   "cell_type": "code",
   "execution_count": 6,
   "metadata": {},
   "outputs": [
    {
     "data": {
      "text/plain": [
       "(31, 18, 8)"
      ]
     },
     "execution_count": 6,
     "metadata": {},
     "output_type": "execute_result"
    }
   ],
   "source": [
    "from scipy.interpolate import RegularGridInterpolator\n",
    "import functions\n",
    "lattice_path_highres = os.path.relpath('../data/meshes/voxelized_envelope_highres.csv')\n",
    "envelope_lattice_highres = tg.lattice_from_csv(lattice_path_highres)\n",
    "\n",
    "sky_view_factor_highres = functions.interpolate(envelope_lattice, envelope_lattice_highres)\n",
    "envelope_lattice_highres.shape"
   ]
  },
  {
   "cell_type": "code",
   "execution_count": 7,
   "metadata": {},
   "outputs": [],
   "source": [
    "# euclidean_distance 5 units\n",
    "# football_field_field 5 units\n",
    "# football_field_inverse_norm 5 units\n",
    "# ground_proximity_inverse_norm 5 units\n",
    "# ground_proximity 5 units\n",
    "# loudness 5 units\n",
    "# manifold_distance_field 5 units\n",
    "# noise_approval_inverse_norm 5 units\n",
    "# noise_approval 5 units\n",
    "# shadowing 5 units\n",
    "# sky_view_factor 5 units\n",
    "# sky_view_factor_1.8 1.8 units\n",
    "# sun_access 5 units\n",
    "# useability_lattice 5 units\n",
    "\n",
    "\n",
    "\n",
    "\n",
    "\n"
   ]
  },
  {
   "cell_type": "code",
   "execution_count": 8,
   "metadata": {},
   "outputs": [],
   "source": [
    "sky_view_factor_highres.to_csv(os.path.relpath('../data/fields/sky_view_factor_highres.csv'))"
   ]
  },
  {
   "cell_type": "code",
   "execution_count": null,
   "metadata": {},
   "outputs": [],
   "source": []
  }
 ],
 "metadata": {
  "interpreter": {
   "hash": "928368c61ecff58f390a16c7bd62788576c063fc16d24536cf2424edb7ec140c"
  },
  "kernelspec": {
   "display_name": "Python 3.8.5 64-bit ('scds': conda)",
   "language": "python",
   "name": "python3"
  },
  "language_info": {
   "codemirror_mode": {
    "name": "ipython",
    "version": 3
   },
   "file_extension": ".py",
   "mimetype": "text/x-python",
   "name": "python",
   "nbconvert_exporter": "python",
   "pygments_lexer": "ipython3",
   "version": "3.8.5"
  },
  "orig_nbformat": 4
 },
 "nbformat": 4,
 "nbformat_minor": 2
}
