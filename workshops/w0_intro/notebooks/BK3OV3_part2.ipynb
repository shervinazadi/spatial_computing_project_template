{
 "cells": [
  {
   "cell_type": "markdown",
   "source": [
    "<header>\n",
    "    <div style=\"overflow: auto;\">\n",
    "        <img src=\"./images/TUDelft.jpg\" style=\"float: left;\" />\n",
    "        <img src=\"./images/DUT_Flame.png\" style=\"float: right; width: 100px;\" />\n",
    "    </div>\n",
    "    <div style=\"text-align: center;\">\n",
    "        <h1> BK3OV3 </h1>\n",
    "        <h1>Python, Rhino and Grasshopper</h1>\n",
    "        <h2>Part 2 : Data structures</h2>\n",
    "        <h6>&copy; 2019, TU Delft. Hans Hoogenboom, Creative Commons</h6>     \n",
    "    </div>\n",
    "    <br>   \n",
    "    <br>\n",
    "</header>"
   ],
   "metadata": {}
  },
  {
   "cell_type": "markdown",
   "source": [
    "## Data structures\n",
    "In Part 1 we used some basic data types (scalars), like integers and floats, and we mentioned *strings*, a non-scalar data type.\n",
    "\n",
    "Python has some other more complex data types which have a certain *structure*. One of them was already briefly mentioned, the *string*. A data structure is capabale of storing different data types and even data structures. In Python data structures are *objects*, we will explain what objects are later, that have some fancy capabilities (*methods*, will also be explained later).\n",
    "\n",
    "Python discerns five different data \"categories\" and each category has certain data types:\n",
    "<table>\n",
    "<thead>\n",
    "<tr>\n",
    "<th style=\"text-align:left\">Category</th>\n",
    "<th style=\"text-align:left\">Type</th>\n",
    "<th style=\"text-align:left\">Description</th>\n",
    "</tr>\n",
    "</thead>\n",
    "<tbody>\n",
    "<tr>\n",
    "<td style=\"text-align:left\">None</td>\n",
    "<td style=\"text-align:left\">None</td>\n",
    "<td style=\"text-align:left\">Null object</td>\n",
    "</tr>\n",
    "<tr>\n",
    "<td style=\"text-align:left\">Numbers</td>\n",
    "<td style=\"text-align:left\">int</td>\n",
    "<td style=\"text-align:left\">Integers</td>\n",
    "</tr>\n",
    "<tr>\n",
    "<td style=\"text-align:left\"></td>\n",
    "<td style=\"text-align:left\">float</td>\n",
    "<td style=\"text-align:left\">Floating point</td>\n",
    "</tr>\n",
    "<tr>\n",
    "<td style=\"text-align:left\"></td>\n",
    "<td style=\"text-align:left\">complex</td>\n",
    "<td style=\"text-align:left\">Complex number</td>\n",
    "</tr>\n",
    "<tr>\n",
    "<td style=\"text-align:left\"></td>\n",
    "<td style=\"text-align:left\">bool</td>\n",
    "<td style=\"text-align:left\">Boolean, true or false</td>\n",
    "</tr>\n",
    "<tr>\n",
    "<td style=\"text-align:left\">Sequence</td>\n",
    "<td style=\"text-align:left\">str</td>\n",
    "<td style=\"text-align:left\">String, characters</td>\n",
    "</tr>\n",
    "<tr>\n",
    "<td style=\"text-align:left\"></td>\n",
    "<td style=\"text-align:left\">list</td>\n",
    "<td style=\"text-align:left\">List of data</td>\n",
    "</tr>\n",
    "<tr>\n",
    "<td style=\"text-align:left\"></td>\n",
    "<td style=\"text-align:left\">tuple</td>\n",
    "<td style=\"text-align:left\">Tuple</td>\n",
    "</tr>\n",
    "<tr>\n",
    "<td style=\"text-align:left\"></td>\n",
    "<td style=\"text-align:left\">range</td>\n",
    "<td style=\"text-align:left\">Range of integers</td>\n",
    "</tr>\n",
    "<tr>\n",
    "<td style=\"text-align:left\">Mapping</td>\n",
    "<td style=\"text-align:left\">dict</td>\n",
    "<td style=\"text-align:left\">Dictionary</td>\n",
    "</tr>\n",
    "<tr>\n",
    "<td style=\"text-align:left\">Sets</td>\n",
    "<td style=\"text-align:left\">set</td>\n",
    "<td style=\"text-align:left\">Mutable set</td>\n",
    "</tr>\n",
    "<tr>\n",
    "<td style=\"text-align:left\"></td>\n",
    "<td style=\"text-align:left\">frozenset</td>\n",
    "<td style=\"text-align:left\">Immutable set</td>\n",
    "</tr>\n",
    "</tbody>\n",
    "</table>\n",
    "<br>In this notebook we will discuss <i>lists</i>, <i>ranges</i>, <i>dictionaries</i> and <i>tuples</i>. In the next notebook (Part3) we will discuss strings.\n",
    "\n",
    "### Lists\n",
    "Let's first start with *lists*, probably the most used data type/structure. A list can be seen exactly the same way as a list in your notebook, you have lines and on those lines you write your to-do things or doodles. You define a list the following way:"
   ],
   "metadata": {}
  },
  {
   "cell_type": "code",
   "execution_count": null,
   "source": [
    "a = []\n",
    "b = list()\n",
    "c = [\"egg\", \"spam\", \"lard\"]"
   ],
   "outputs": [],
   "metadata": {}
  },
  {
   "cell_type": "markdown",
   "source": [
    "On the first line we define an empty list by using the brackets, on the second line we use the `list` function and on the last line we create and *initialize* (give values to) a list. We seperate the different values with commas. We can add elements to a list by using the `append` method:"
   ],
   "metadata": {}
  },
  {
   "cell_type": "code",
   "execution_count": null,
   "source": [
    "a.append(\"cat\")\n",
    "print(a)\n",
    "a.append(\"dog\")\n",
    "print(a)"
   ],
   "outputs": [],
   "metadata": {}
  },
  {
   "cell_type": "markdown",
   "source": [
    "To retrieve an element from a list you specifiy the index of the element between brackets (see it as referecing a line number in your notebook). It is worth noting that in the world of programming 0 is the first element of a list, thus:"
   ],
   "metadata": {}
  },
  {
   "cell_type": "code",
   "execution_count": null,
   "source": [
    "a[0]"
   ],
   "outputs": [],
   "metadata": {}
  },
  {
   "cell_type": "markdown",
   "source": [
    "You can also use negative numbers, in which case you start counting from the end of the list. -1 is the last element in a list:"
   ],
   "metadata": {}
  },
  {
   "cell_type": "code",
   "execution_count": null,
   "source": [
    "print(c[-2])\n",
    "print(c[1])"
   ],
   "outputs": [],
   "metadata": {}
  },
  {
   "cell_type": "markdown",
   "source": [
    "Can you figure out the counting in the cell above? -1 is the end so -2 is the... Let's make another list of some other animals and then add this new list to list _a_ and assign this list to *c*:"
   ],
   "metadata": {}
  },
  {
   "cell_type": "code",
   "execution_count": null,
   "source": [
    "b = [\"cow\", \"chicken\", \"hippo\"]\n",
    "c = a + b\n",
    "c"
   ],
   "outputs": [],
   "metadata": {}
  },
  {
   "cell_type": "markdown",
   "source": [
    "With `append` you can only add one element to a list. To add two lists together we can use the add operator (+). That makes sense right? Another option is by using the *extend* method: `c.extend(b)`. If we want to know how many cows we have, we can use the `count` method. If we want to know the position of the *first* occurence of cow in the list, we can use the `index` method."
   ],
   "metadata": {}
  },
  {
   "cell_type": "code",
   "execution_count": null,
   "source": [
    "num_cows  = c.count(\"cow\")\n",
    "first_cow = c.index(\"cow\")\n",
    "print(\"There are\", num_cows, \"cow(s) in the list and the first one is at index:\", first_cow)"
   ],
   "outputs": [],
   "metadata": {}
  },
  {
   "cell_type": "markdown",
   "source": [
    "Our cow is a bit lonely so let's add another one. Cows like to be close together but not too close so we want the chicken to separate them. We can find the location of the chicken with the `index` method. Then we need to insert a new cow with the `insert` method. Once we have done that we need to check that there are actually two cows."
   ],
   "metadata": {}
  },
  {
   "cell_type": "code",
   "execution_count": null,
   "source": [
    "place_cow = c.index(\"chicken\")\n",
    "# we add one to place the cow AFTER the chicken\n",
    "c.insert(place_cow + 1, \"cow\")\n",
    "num_cows  = c.count(\"cow\")\n",
    "first_cow = c.index(\"cow\")\n",
    "\n",
    "print(\"There are\", num_cows, \"cow(s) in the list and the first one is at index:\", first_cow)"
   ],
   "outputs": [],
   "metadata": {}
  },
  {
   "cell_type": "markdown",
   "source": [
    "We have now the following animals in our list:"
   ],
   "metadata": {}
  },
  {
   "cell_type": "code",
   "execution_count": null,
   "source": [
    "c"
   ],
   "outputs": [],
   "metadata": {}
  },
  {
   "cell_type": "markdown",
   "source": [
    "The cat has been chased away by the dog and replaced by a hamster. We can simply assign a new value to an element in the list by using the square brackets and an index number:"
   ],
   "metadata": {}
  },
  {
   "cell_type": "code",
   "execution_count": null,
   "source": [
    "c[0] = \"hamster\"\n",
    "print(c[0])"
   ],
   "outputs": [],
   "metadata": {}
  },
  {
   "cell_type": "markdown",
   "source": [
    "Unfortunately, the hamster was trampled by one of the cows. We need to remove the hamster from our list. We can delete an element from a list with `remove` method or with a `del` statement:"
   ],
   "metadata": {}
  },
  {
   "cell_type": "code",
   "execution_count": null,
   "source": [
    "# remove the hamster\n",
    "c.remove(\"hamster\")\n",
    "\n",
    "# remove the dog, because he was nasty to the cat\n",
    "del c[0]\n",
    "c"
   ],
   "outputs": [],
   "metadata": {}
  },
  {
   "cell_type": "markdown",
   "source": [
    "You see that `del` is neither a method - we don't use the data type with a . (dot) - nor a function - because we don't do `del(a[0])`.<br>\n",
    "Another way to delete an element is to use the `pop` method. The difference between the remove and del approach is that pop will return the removed element. If you use pop without an argument the last element of the list is retrieved:"
   ],
   "metadata": {}
  },
  {
   "cell_type": "code",
   "execution_count": null,
   "source": [
    "chick = c.pop(1)\n",
    "hyp   = c.pop()\n",
    "\n",
    "print(\"The\", chick, \"and the\", hyp)"
   ],
   "outputs": [],
   "metadata": {}
  },
  {
   "cell_type": "markdown",
   "source": [
    "We are now left with only cows which is boring so let's repopulate our list again and reverse the order of the list."
   ],
   "metadata": {}
  },
  {
   "cell_type": "code",
   "execution_count": null,
   "source": [
    "c = a + b\n",
    "print(c)\n",
    "\n",
    "c.reverse()\n",
    "print(c)"
   ],
   "outputs": [],
   "metadata": {}
  },
  {
   "cell_type": "markdown",
   "source": [
    "### For loops\n",
    "A lot of times you want to repeat a certain block of code. For example, you want to express your dedication to your local football team by shouting \"Ajax\" or \"Feyenoord\". Suppose you want to do this 9 times after which you need to take a breath. You could write a `print(\"Ajax!\")` and then copy paste that 9 times. What if you decide half way the match to switch sides because Pec Zwolle is the better team? You have to change nine print statements, not very smart. Or instead of printing the whole list of animals on one line, you want to print the name of the animal on a seperate line.\n",
    "\n",
    "To iterate a certain number of times or to iterate over the elements of a list Python has the `for` loop construct. The for loop has the following syntax:\n",
    ">for _variable_ in _sequence_:<br>\n",
    ">&emsp; _do something_\n",
    "\n",
    " <i>variable</i> is the iteration variable,<br>\n",
    " <i>sequence</i> is the data structure or we want to iterate over<br>\n",
    "the <i>for ... in</i> will return a new value to _item_ from the sequence _sequence_ with each iteration round\n",
    "\n",
    "In case of the football example we want to print our expression of idolation 9 times:<br>\n",
    "&emsp;`for i in sequence:`<br>\n",
    "&emsp;&emsp;`print(\"Ajax!\")`<br>\n",
    "To do something nine times we probably need a range of numbers. We could make a list with nine numbers but Python has a _range_ data type that does just that. \n",
    "#### Range\n",
    "In the table at the beginning of this notebook you can see that in the type category of sequence we have a range data type. The _range_ data type gives us a range of integers. You define the following way:"
   ],
   "metadata": {}
  },
  {
   "cell_type": "code",
   "execution_count": null,
   "source": [
    "# range(start number, end number, steps)\n",
    "# end number is not included in the sequence\n",
    "# and the steps parameter is optional\n",
    "numbers = range(0, 10)\n",
    "even = range(0, 10, 2)\n",
    "print(numbers) #! That is probably an unexpected output\n",
    "print(numbers[3])\n",
    "print(len(numbers))"
   ],
   "outputs": [],
   "metadata": {}
  },
  {
   "cell_type": "markdown",
   "source": [
    "The `len` function returns the numbers of elements in a sequence.<br>With the `for` loop construct we can now print the numbers in the sequence _numbers_."
   ],
   "metadata": {}
  },
  {
   "cell_type": "code",
   "execution_count": null,
   "source": [
    "numbers = range(0, 4)\n",
    "for i in numbers:\n",
    "    print(i)"
   ],
   "outputs": [],
   "metadata": {}
  },
  {
   "cell_type": "markdown",
   "source": [
    "You van write the code above more compact. Notice we also don't specify the start number. Python will automatically assume that we want to start the sequence at the number 0."
   ],
   "metadata": {}
  },
  {
   "cell_type": "code",
   "execution_count": null,
   "source": [
    "for i in range(4):\n",
    "    print(i)"
   ],
   "outputs": [],
   "metadata": {}
  },
  {
   "cell_type": "markdown",
   "source": [
    "We can now finish the code to show our dedication to Ajax:"
   ],
   "metadata": {}
  },
  {
   "cell_type": "code",
   "execution_count": null,
   "source": [
    "for i in range(9):\n",
    "    print(\"Ajax!\")"
   ],
   "outputs": [],
   "metadata": {}
  },
  {
   "cell_type": "markdown",
   "source": [
    "#### The in operand\n",
    "In the code above you see that _in_ is green colored and bold. It is thus a Python keyword. What does it do? It checks for membership:"
   ],
   "metadata": {}
  },
  {
   "cell_type": "code",
   "execution_count": null,
   "source": [
    "got_hippos = \"hippo\" in c\n",
    "print(got_hippos)\n",
    "\n",
    "if \"camels\" in c:\n",
    "    print(\"We got camels.\")\n",
    "else:\n",
    "    print(\"There are no camals.\")"
   ],
   "outputs": [],
   "metadata": {}
  },
  {
   "cell_type": "markdown",
   "source": [
    "In the examples above we got a value from the range sequence in our variable <i>i</i>. If we use the list with our animals, we get an element from that list in <i>i</i>:"
   ],
   "metadata": {}
  },
  {
   "cell_type": "code",
   "execution_count": null,
   "source": [
    "for i in c:\n",
    "    print(i)\n",
    "    print(type(i))"
   ],
   "outputs": [],
   "metadata": {}
  },
  {
   "cell_type": "code",
   "execution_count": null,
   "source": [
    "# print all animals in uppercase\n",
    "for i in c:\n",
    "    uppercase = i.swapcase()\n",
    "    print(uppercase)"
   ],
   "outputs": [],
   "metadata": {}
  },
  {
   "cell_type": "markdown",
   "source": [
    "### Functions\n",
    "I am pretty sure some of you didn't like the Ajax idolation code. You probably want to cheer for another team or maybe cheer for something that is not related to football at all. Suppose you are the cheery type and like to cheer for a lot of things, you would end up retyping the same lines of code over and over. Whenever you need to retype code you should consider making a function of it. A function is a block of code you can \n",
    "\n",
    "You define a function with the keyword `def` followed by a descriptive function name. Then you might want to have inputs to your function, these are called parameters. You specify parameters by placing variable names, seperated by commas, between parentheses after the function name. You finish the function defenition by ending it with a colon, like:\n",
    ">`def myFunction(input1, input2):`\n",
    "\n",
    "Then you make an indentation and write your code. To use your function you write the name of the function and you give values to the variables. We could write an idolation function called cheer for example:"
   ],
   "metadata": {}
  },
  {
   "cell_type": "code",
   "execution_count": null,
   "source": [
    "def cheer(yell, x_times):\n",
    "    for i in range(x_times):\n",
    "        print(yell)\n",
    "        \n",
    "cheer(\"I like Python!\", 3)"
   ],
   "outputs": [],
   "metadata": {}
  },
  {
   "cell_type": "markdown",
   "source": [
    "The _cheer_ function does not return a value. In the world of programming this is called a _void_ function. If we want to create a function that returns a value/data we use the __return__ keyword followed by the data we want to return:"
   ],
   "metadata": {}
  },
  {
   "cell_type": "code",
   "execution_count": null,
   "source": [
    "def moment(load, length):\n",
    "    m_max = load * length**2 / 8.0\n",
    "    return m_max\n",
    "\n",
    "load = 3\n",
    "length = 7\n",
    "max_moment = moment(load, length)\n",
    "print(max_moment)"
   ],
   "outputs": [],
   "metadata": {}
  },
  {
   "cell_type": "markdown",
   "source": [
    "#### Scope\n",
    "In the code above I use the name load four times, in the main body of the code as variable, as input for the function call, as parameter in the function definition and then in the function code. The variables defined outside the function, in the main body of the code, are not the same as the variables within the function though they have the same name.<br>\n",
    "It can be better explained with a more straightforward example. In the code in __example 3__ below we define a variable <i>b</i> and assign it the value 4. We define a function with a parameter called <i>b</i>. When we call the function <i>scope</i> with the variable <i>b</i>, it is the variable from the outer code block (all the code at the left side of the cell). The <i>b</i> in the function call is not the same as the one in the function definition. The parameter <i>b</i> in the function call gets replaced with the value of variable <i>b</i> (4). In the first print statement <i>b</i> has the value of the <i>b</i> from outside the function (4). Then we change the <i>b</i> inside the function and print it (7). When the function is done executing we continue with the main body code again and print <i>b</i> from the main body code, which is still 4.\n",
    "\n",
    "This is called the scope of a variable. This means that a variable or name only has a certain area where it is valid. Variables defined within a function or object only \"live\" within that function or object, they are __local__ variables (This behaviour also holds true for variables in external python modules). Variables defined in the main body code are called __global__ variables. \n",
    "\n",
    "#### Example 1:"
   ],
   "metadata": {}
  },
  {
   "cell_type": "code",
   "execution_count": null,
   "source": [
    "b = 5\n",
    "\n",
    "def scope():\n",
    "    b = 7\n",
    "    print(b)\n",
    "    \n",
    "scope()\n",
    "print(b)\n",
    "# we didn't pass b from the main body to scope\n",
    "# the b in the scope function is locally defined"
   ],
   "outputs": [],
   "metadata": {}
  },
  {
   "cell_type": "markdown",
   "source": [
    "#### Example 2:"
   ],
   "metadata": {}
  },
  {
   "cell_type": "code",
   "execution_count": null,
   "source": [
    "b = 4\n",
    "\n",
    "def scope():\n",
    "    print(b)\n",
    "    \n",
    "    \n",
    "scope()\n",
    "print(b)\n",
    "# we didn't pass b from the main body to scope\n",
    "# since there is no b inside the scope function \n",
    "# it can access the globally defined b"
   ],
   "outputs": [],
   "metadata": {}
  },
  {
   "cell_type": "markdown",
   "source": [
    "#### Example 3:"
   ],
   "metadata": {}
  },
  {
   "cell_type": "code",
   "execution_count": null,
   "source": [
    "b = 4\n",
    "\n",
    "def scope(b):\n",
    "    print(b)\n",
    "    b = 7\n",
    "    print(b)\n",
    "    \n",
    "scope(b)\n",
    "print(b)\n",
    "# we have a parameter in our function, it gets a value\n",
    "# when we call the function. The b inside the function\n",
    "# is a local variable and doesn't change b outside of\n",
    "# the function block"
   ],
   "outputs": [],
   "metadata": {}
  },
  {
   "cell_type": "markdown",
   "source": [
    "#### List slicing\n",
    "List slicing is a way to extract a part from a list. We first make our list of animals a bit longer so we can slice it up (the list, not the animals!):"
   ],
   "metadata": {}
  },
  {
   "cell_type": "code",
   "execution_count": null,
   "source": [
    "zoo = c + [\"zebra\", \"cobra\", \"mouse\", \"gnu\", \"lamb\"]\n",
    "print(zoo)"
   ],
   "outputs": [],
   "metadata": {}
  },
  {
   "cell_type": "markdown",
   "source": [
    "Slice operations work as follows:\n",
    "+ you give the name of the list,\n",
    "+ you specify the start index,\n",
    "+ you specify the end index (the end is exluded so it is up to the end),\n",
    "+ and you optionally specify the number of steps you want to take,\n",
    "+ all these numbers/expressions are seperated by a :\n",
    "\n",
    "so:\n",
    "`zoo[1:10:4]`\n"
   ],
   "metadata": {}
  },
  {
   "cell_type": "code",
   "execution_count": null,
   "source": [
    "# prints the second and third element\n",
    "print(zoo[1:3:])\n",
    "# print the elements starting at the second\n",
    "# index and then take steps of 3 indices\n",
    "print(zoo[1:9:3])"
   ],
   "outputs": [],
   "metadata": {}
  },
  {
   "cell_type": "markdown",
   "source": [
    "The second print statement works as follows. The first element at index 1 is chicken. Then we take three steps which gives us the cat. We take three more steps and we get the cow. If we take three more steps we reach element 10 and that falls outside of the range we have set, namely 9.<br>\n",
    "If we omit the start, element 0 is presumed, if we omit the end then the end of the list is presumed."
   ],
   "metadata": {}
  },
  {
   "cell_type": "code",
   "execution_count": null,
   "source": [
    "print(zoo[:3])\n",
    "print(zoo[8:])\n",
    "\n",
    "# this does the same as above but counting backwards\n",
    "print(zoo[-2:])"
   ],
   "outputs": [],
   "metadata": {}
  },
  {
   "cell_type": "markdown",
   "source": [
    "### Advanced list methods\n",
    "So far we have been adding only strings to our list data structure. As mentioned above we can add data structures to data structures. Let's make a new list with some predators, assign this new list to the element with the value chicken and then print it."
   ],
   "metadata": {}
  },
  {
   "cell_type": "code",
   "execution_count": null,
   "source": [
    "predators = [\"wolf\", \"cheetah\", \"owl\"]\n",
    "chicken_index = c.index(\"chicken\")\n",
    "c[chicken_index] = predators\n",
    "\n",
    "for i in c:\n",
    "    print(i)"
   ],
   "outputs": [],
   "metadata": {}
  },
  {
   "cell_type": "markdown",
   "source": [
    "If we want to access an element inside the list in a list we use the following syntax:"
   ],
   "metadata": {}
  },
  {
   "cell_type": "code",
   "execution_count": null,
   "source": [
    "print(c[1][2])"
   ],
   "outputs": [],
   "metadata": {}
  },
  {
   "cell_type": "markdown",
   "source": [
    "You should read the _c\\[1\\]\\[2\\]_ from right to left: so first get the c\\[1\\] element and then from that element get element 2.\n",
    "\n",
    "You see that the for loop in cell 25 prints the list we have just inserted as a...list. If we want to neatly print all the animals beneath each other we need to come up with another solution. If *i* is a list and not a string or number (either int or float) then we want to print the elements of that list again. So first we need to figure out what kind of data type or structure _i_ is. For that we can use the function `type`."
   ],
   "metadata": {}
  },
  {
   "cell_type": "code",
   "execution_count": null,
   "source": [
    "print(type(c))\n",
    "print(type(2))\n",
    "print(type(\"a string\"))\n",
    "type(c) == type([])"
   ],
   "outputs": [],
   "metadata": {}
  },
  {
   "cell_type": "markdown",
   "source": [
    ">######  intermezzo 1: Objects\n",
    "On the first three lines you can see the output of the type function for some data types. Now below cell 1 we mentioned *objects*. In Python everything is an object. When we create a new variable, either a simple data type or a data structure, we create an *instance* of a *class*. A class can be seen as the skeleton or blueprint (or a production drawing to stay a bit closer to home) of an object. So we see that <i>c</i> is an object of the list class and <i>2</i> is an object of the int class.<br>\n",
    "On the last line we compare <i>c</i>, using the double equal sign, with an empty list (the \\[ \\]). Comparisons return a boolean value, either `True` or `False`. Since _c_ is a list and an empty list is also a list the comparison returns `True`. So now that we can check what data types we have, we can do the following:"
   ],
   "metadata": {}
  },
  {
   "cell_type": "code",
   "execution_count": null,
   "source": [
    "if(type(c) == type([])):\n",
    "    for i in c:\n",
    "        print(i)"
   ],
   "outputs": [],
   "metadata": {}
  },
  {
   "cell_type": "markdown",
   "source": [
    "### Recursion\n",
    "We get the same result...So inside the for loop we need to copy the code again. But what if we have a list in a list in a list? Do we then have to copy paste the code inside the code inside the code etc? That's not a very smart way to tackle this puzzle. We duplicate code so we should start thinking about writing a function. If we want to print the items of a list we could write the following function:\n",
    ">`def printList(a_list):\n",
    "    for i in a_list:\n",
    "        print(i)`\n",
    "\n",
    "This doesn't solve the problem of a list in a list. We should do a check if at a certain moment _i_ will be a list. If _i_ is not a list we can just print the value. So our improved function might look like:\n",
    "\n",
    ">`def printList2(a_list):\n",
    "    for i in a_list:\n",
    "        if (type(i) == type([])):\n",
    "            do_something\n",
    "        else:\n",
    "            print(i)`\n",
    "\n",
    "What code should be on the line *do\\_something*? We have a function that has as argument/input a list. If an element in this list is **not** a list we want to print it - which is what we do in the *else* block. If an element **is** a list we want to run this same function again. We pass this list to *printList2* again and then *printList2* will check if all the elements of this list are now just normal elements if it contains maybe another list, in which case, we call *printList2* again. This programming trick is called *recursion*. So now we can write our final version:"
   ],
   "metadata": {}
  },
  {
   "cell_type": "code",
   "execution_count": null,
   "source": [
    "def printNestedList(a_list):\n",
    "    for i in a_list:\n",
    "        if (type(i) == type([])):\n",
    "            printNestedList(i)\n",
    "        else:\n",
    "            print(i)\n",
    "            \n",
    "# call printNestedList with the c list\n",
    "printNestedList(c)"
   ],
   "outputs": [],
   "metadata": {}
  },
  {
   "cell_type": "markdown",
   "source": [
    "Hurrah, it works! You probably still remember, but this function is a void function, it doesn't return a value.\n",
    "#### Enumerating and  zipping\n",
    "Besides the `for i in s:` construct there are (two) more ways to iterate over a list using the `enumerate` and `zip` function. The enumerate function returns two values, one being the current iteration number, the other the element in the list at the current iteration index:\n",
    ">`for i, x in enumerate(s):`\n",
    "\n",
    "With the `zip` function you can iterate over two or more lists in parallel, taking an item of each of the lists:\n",
    ">`for x, y in zip(s, t):`\n",
    "\n",
    "Examples:"
   ],
   "metadata": {}
  },
  {
   "cell_type": "code",
   "execution_count": null,
   "source": [
    "first_list  = [\"brick\", \"mud\", \"wall\", \"beam\"]\n",
    "second_list = [\"beam\", \"mud\", \"wall\", \"brick\"]\n",
    "\n",
    "for i, x in enumerate(first_list):\n",
    "    print(i, \":\", x)\n",
    "\n",
    "#print an empty line\n",
    "print()\n",
    "\n",
    "for x, y in zip(first_list, second_list):\n",
    "    print(x == y)"
   ],
   "outputs": [],
   "metadata": {}
  },
  {
   "cell_type": "markdown",
   "source": [
    "### Dictionaries\n",
    "Another basic data structure in Python is the dictionary. As a normal dictionary, you look up some index (a difficult word) and you get the value (hopefully a simple explanation of the difficult word). You create a dictionary as follows:"
   ],
   "metadata": {}
  },
  {
   "cell_type": "code",
   "execution_count": null,
   "source": [
    "empty_dict = {}\n",
    "also_empty = dict()\n",
    "type(also_empty)"
   ],
   "outputs": [],
   "metadata": {}
  },
  {
   "cell_type": "markdown",
   "source": [
    "You notice that it doesn't use the brackets we used with lists, but braces ({). Of course you can initialize a dictionary as well:"
   ],
   "metadata": {}
  },
  {
   "cell_type": "code",
   "execution_count": null,
   "source": [
    "my_dict = {\"first\" : 0, \"second\" : 1, 34 : 45}\n",
    "my_dict"
   ],
   "outputs": [],
   "metadata": {}
  },
  {
   "cell_type": "markdown",
   "source": [
    "So a dictionary consists of a *key* and a *value*, which are seperated from each other with a colon (:) and the different key-value pairs are seperated by a comma (,). For a key you don't have to use strings, you can use other Python objects like numbers and tuples (very simple lists, more about those later) though you can not use lists and dictionaries as keys. As a rule of thumb, you can not use objects which can change - which are mutable - as keys. If this doesn't make sense, don't worry, it will be explained later.\n",
    "\n",
    "You can assign a value to a key or retrieve a value from a key the same way as with lists. You use square brackets now (and yes that could be considered confusing)."
   ],
   "metadata": {}
  },
  {
   "cell_type": "code",
   "execution_count": null,
   "source": [
    "print(my_dict[\"first\"])\n",
    "my_dict['second'] = 9\n",
    "print(my_dict['second'])\n",
    "print(my_dict[34])"
   ],
   "outputs": [],
   "metadata": {}
  },
  {
   "cell_type": "markdown",
   "source": [
    "Some remarks: \n",
    "1. It doesn't really matter if you use a single quote or a double quote for the key if the key is a string.\n",
    "2. The type of the key does matter: \\[\"34\"\\] will not work nor will \\[second\\] work.\n",
    "\n",
    "To get all the keys or all the values in a dictionary you can use the methods `keys` and `values`:"
   ],
   "metadata": {}
  },
  {
   "cell_type": "code",
   "execution_count": null,
   "source": [
    "my_dict.keys()\n",
    "my_values = my_dict.values()\n",
    "\n",
    "# my_values is a data structure resembling a list\n",
    "print(type(my_values))\n",
    "print(my_values)\n",
    "\n",
    "for i in my_values:\n",
    "    print(i)\n",
    "\n",
    "# but this does not work\n",
    "print(my_values[0])"
   ],
   "outputs": [],
   "metadata": {}
  },
  {
   "cell_type": "markdown",
   "source": [
    "To get all the items in a dictionary as a list of tuples you can use the `items` method. To test if a dictionary has a certain key you can use the `in` operator:"
   ],
   "metadata": {}
  },
  {
   "cell_type": "code",
   "execution_count": null,
   "source": [
    "print(my_dict.items())\n",
    "\n",
    "for i in my_dict.items():\n",
    "    my_key, my_value = i\n",
    "    print(\"The key is\", my_key, \"and the value is\", my_value)\n",
    "\n",
    "#print the number of elements in my_dict\n",
    "print(\"Length of my_dict:\", len(my_dict))\n",
    "\n",
    "# check if we have a key \"second\" in my_dict\n",
    "print(\"second\" in my_dict)\n",
    "\n",
    "# check if we still have a hamster in c -> False because a cow trampled it\n",
    "print(\"Do we have a hamster in c?\", \"hamster\" in c)\n",
    "\n",
    "# check if we have a cow\n",
    "print(\"Do we have cows then?\", \"cow\" in c)"
   ],
   "outputs": [],
   "metadata": {}
  },
  {
   "cell_type": "markdown",
   "source": [
    "There are many more methods associated with lists and dictionaries. An easy way to find what kind of methods an object has is to use the `dir` function with the object as parameter:"
   ],
   "metadata": {}
  },
  {
   "cell_type": "code",
   "execution_count": null,
   "source": [
    "dir(my_dict)"
   ],
   "outputs": [],
   "metadata": {}
  },
  {
   "cell_type": "markdown",
   "source": [
    "We can do the same with any Python libraries that we import:"
   ],
   "metadata": {}
  },
  {
   "cell_type": "code",
   "execution_count": null,
   "source": [
    "import math\n",
    "dir(math)"
   ],
   "outputs": [],
   "metadata": {}
  },
  {
   "cell_type": "markdown",
   "source": [
    "### Tuples\n",
    "\n",
    "So the last object we'll visit is the tuple. It looks like a list but it works a little bit differently. In the code in cell 28 you saw the line reading:\n",
    ">`my_key, my_value = i`\n",
    "\n",
    "If you print the type of <i>i</i> you will see that it is a of type tupple. If you print <i>i</i> you will get something like ('my text', 'more text', 3, 'a'), that is a comma seperated list of elements between parentheses. Tuples are used, among others, as an easy way to return more then one value from a function; for example:\n",
    "<blockquote><code>def multi_ret(a, b):<br>    return (a * b, a + b)<br><br>(result1, result2) = multi_ret(4, 6)</code></blockquote>"
   ],
   "metadata": {}
  },
  {
   "cell_type": "code",
   "execution_count": null,
   "source": [
    "my_tuple =('cat', 'mouse')\n",
    "print(type(my_tuple))\n",
    "print(my_tuple[0])\n",
    "\n",
    "# concatenation works\n",
    "new_tuple = my_tuple + my_tuple\n",
    "print(new_tuple)"
   ],
   "outputs": [],
   "metadata": {}
  },
  {
   "cell_type": "markdown",
   "source": [
    "After you create a tuple you cannot add any more variables or data to it. In Python they call this *immutable* data type.\n",
    "The tuple data type has a very limited set of methods:"
   ],
   "metadata": {}
  },
  {
   "cell_type": "code",
   "execution_count": null,
   "source": [
    "dir(my_tuple)"
   ],
   "outputs": [],
   "metadata": {}
  },
  {
   "cell_type": "markdown",
   "source": [
    "## A little bit more about objects\n",
    "Let's create a new list, assign that list to a variable and then assign that variable to another variable. When we print the variables we'll see they are the same (of course, duh...)."
   ],
   "metadata": {}
  },
  {
   "cell_type": "code",
   "execution_count": null,
   "source": [
    "prog_lang = [\"java\", \"c++\", \"algol\"]\n",
    "more_lang = prog_lang\n",
    "print(prog_lang, \"\\n\", more_lang, sep='')"
   ],
   "outputs": [],
   "metadata": {}
  },
  {
   "cell_type": "markdown",
   "source": [
    ">##### Intermezzo 2: Escape characters\n",
    "In the print command you see something funny (hopefully...) which is the *\\n* and the *sep=''* (two single quotes). The *\\\\n* is an *escape character* and creates a new line (an enter on your keyboard). Some other escape characters are:\n",
    "+ \\a: bell\n",
    "+ \\v: vertical tab\n",
    "+ \\t: horizontal tab\n",
    ">\n",
    ">Sometimes when you have a string and you want to have a double quote inside the string you need to tell the print statement that it shouldn't treat the double quote as a string termination. You do this by *escaping* the character with a backward slash \\\\, for example:"
   ],
   "metadata": {}
  },
  {
   "cell_type": "code",
   "execution_count": null,
   "source": [
    "print(\"This is a \\\" double quote\")\n",
    "print(\"This: \" does not work\")\n",
    "print(\"Nor does this \\\")\n",
    "# escaping the escape character\n",
    "print(\"But this does \\\\\")"
   ],
   "outputs": [],
   "metadata": {}
  },
  {
   "cell_type": "markdown",
   "source": [
    "Put a # in front of the line to disable it. The code in the cell will not be displayed until all errors are fixed.\n",
    ">###### Intermezzo 3: Help\n",
    "Then we have the *sep=''*. This tells the print command to not use a space as a seperator between the arguments (inputs). You can remove it from the print statement to see what happens... A lot of the time while programming, things go wrong or not the way you wanted (one might say that this is the case 99% of the time and not only with programming). So you have to read the manual or search online ([Stackoverflow](https://stackoverflow.com/questions/tagged/python)).<br>\n",
    "If you are using functions in Python you can use the `help` function to print help about a **function** or  **module** (and yes, you can do `help(help)`)."
   ],
   "metadata": {}
  },
  {
   "cell_type": "code",
   "execution_count": null,
   "source": [
    "help(print)\n",
    "\n",
    "#help(help)"
   ],
   "outputs": [],
   "metadata": {}
  },
  {
   "cell_type": "markdown",
   "source": [
    "Let us continue with our two lists. Change one of the elements of list prog_lang and then print the list more_lang."
   ],
   "metadata": {}
  },
  {
   "cell_type": "code",
   "execution_count": null,
   "source": [
    "prog_lang[0]=\"R\"\n",
    "print(more_lang)"
   ],
   "outputs": [],
   "metadata": {}
  },
  {
   "cell_type": "markdown",
   "source": [
    "You see that they are both the same again! When can check this in two other ways using the compare operator `==` and the `is` operator"
   ],
   "metadata": {}
  },
  {
   "cell_type": "code",
   "execution_count": null,
   "source": [
    "print(prog_lang == more_lang)\n",
    "print(prog_lang is more_lang)"
   ],
   "outputs": [],
   "metadata": {}
  },
  {
   "cell_type": "markdown",
   "source": [
    "The first statement test if prog_lang and more_lang have the same element values; apparently they do! How is this possible, because we only changed prog_lang and not more_lang! The second print statement gives us a hint. The `is` operator test if two variables or objects to see if the refer to the same object in memory. Let's revisit that very verbose sentence:\n",
    ">Let's create a new list, assign that list to a variable and then assign that variable to another variable. \n",
    "\n",
    "What happens here is that the list we write in the cell is the first object that get's created by Python. Then we assign that object to a variable called prog_lang. So prog_lang refers to the list which is somewhere in the memory of our computer, prog_lang points to the memory address of our list. If we now assign prog_lang to more_lang, we basically point more_lang to the same address in the computer's memory.\\\n",
    "If we make a new list, with the exact same elements as our prog_lang list, assign it to a new varaible and then compare it with prog_lang, we see that it returns `True` when we compare it for *equality* but `False` when we compare it for *identity*."
   ],
   "metadata": {}
  },
  {
   "cell_type": "code",
   "execution_count": null,
   "source": [
    "other_lang = ['R', 'c++', 'algol']\n",
    "\n",
    "print(prog_lang == other_lang)\n",
    "print(prog_lang is other_lang)"
   ],
   "outputs": [],
   "metadata": {}
  },
  {
   "cell_type": "markdown",
   "source": [
    "Below you see the behaviour of some Python objects:"
   ],
   "metadata": {}
  },
  {
   "cell_type": "code",
   "execution_count": null,
   "source": [
    "import copy\n",
    "\n",
    "# compare integers and numbers\n",
    "print(\"Numbers:\")\n",
    "wn = 1\n",
    "tn = 1\n",
    "print(tn == wn)\n",
    "print(tn is wn, \"!\")\n",
    "# but if you change t, w won't change\n",
    "\n",
    "# compare tuples\n",
    "print(\"\\nTuples:\")\n",
    "at = (\"a\", \"b\")\n",
    "bt = at\n",
    "print(bt == at)\n",
    "print(bt is at)\n",
    "\n",
    "# making a deepcopy of a tuple does....\n",
    "print(\"\\nTupple deepcopy:\")\n",
    "b = copy.deepcopy(a)\n",
    "print(b == a)\n",
    "print(b is a, \"!\")\n",
    "\n",
    "# with strings\n",
    "print(\"\\nStrings:\")\n",
    "ast = \"Some text.\"\n",
    "bst = ast\n",
    "print(bst == ast)\n",
    "print(bst is ast)\n",
    "print(\"\\nStrings deepcopy:\")\n",
    "cst = copy.deepcopy(ast)\n",
    "print(cst == ast)\n",
    "print(cst is ast)\n",
    "\n",
    "# making a deepcopy of a list or dictionary does...\n",
    "print(\"\\nList and dict:\")\n",
    "prog_lang = [\"java\", \"c++\", \"algol\"]\n",
    "prog_dict = {\"java\" : \"James Gosling\", \"C++\" : \"Bjarne Stroustrup\", \"Python\": \"Guido van Rossum\"}\n",
    "more_lang  = prog_lang\n",
    "more_dict = prog_dict\n",
    "print(prog_lang == more_lang)\n",
    "print(prog_lang is more_lang)\n",
    "print(more_dict is prog_dict)\n",
    "\n",
    "print(\"\\nList and dict deepcopy:\")\n",
    "more_lang = copy.deepcopy(prog_lang)\n",
    "more_dict = copy.deepcopy(prog_dict)\n",
    "print(prog_lang is more_lang)\n",
    "print(more_dict is prog_dict)"
   ],
   "outputs": [],
   "metadata": {}
  },
  {
   "cell_type": "markdown",
   "source": [
    "### Mutable and immutable\n",
    "As you can see from this long list of prints, you have to be aware of what object you are using when modifying it. Below is a non exhaustive list of some of the Python data types and structures we encountered and their behaviour regarding *equality* and *similarity*:\n",
    "\n",
    "| Category | Type | Mutable | Copy |\n",
    "|:---|:---|:---:|:---:|\n",
    "| number | int| no | no |\n",
    "| number | float | no | no |\n",
    "| number | boolean | no | no |\n",
    "| sequence | string | no | no |\n",
    "| sequence | list | yes | yes |\n",
    "| sequence | tuple | no | no |\n",
    "| mapping | dictionary | yes | yes |"
   ],
   "metadata": {}
  },
  {
   "cell_type": "markdown",
   "source": [
    "### THE END (of part 2)\n",
    "###### Hans Hoogenboom, Oct. 2019\n"
   ],
   "metadata": {}
  }
 ],
 "metadata": {
  "kernelspec": {
   "name": "python3",
   "display_name": "Python 3.8.5 64-bit ('earthy': conda)"
  },
  "language_info": {
   "codemirror_mode": {
    "name": "ipython",
    "version": 3
   },
   "file_extension": ".py",
   "mimetype": "text/x-python",
   "name": "python",
   "nbconvert_exporter": "python",
   "pygments_lexer": "ipython3",
   "version": "3.8.5"
  },
  "interpreter": {
   "hash": "6a9983edd6343d9d7472c527d6fcc61324940c388a3481e05c81688fc90d2d61"
  }
 },
 "nbformat": 4,
 "nbformat_minor": 2
}