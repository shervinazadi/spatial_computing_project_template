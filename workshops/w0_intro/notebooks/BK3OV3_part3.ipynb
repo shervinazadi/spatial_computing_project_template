{
 "cells": [
  {
   "cell_type": "markdown",
   "source": [
    "<header>\n",
    "        <div style=\"overflow: auto;\">\n",
    "        <img src=\"./images/TUDelft.jpg\" style=\"float: left;\" />\n",
    "        <img src=\"./images/DUT_Flame.png\" style=\"float: right; width: 100px;\" />\n",
    "    </div>\n",
    "    <div style=\"text-align: center;\">\n",
    "        <h1> BK3OV3 </h1>\n",
    "        <h1>Python, Rhino and Grasshopper</h1>\n",
    "        <h2>Part 3: Data structures and objects</h2>\n",
    "        <h6>&copy; 2020, TU Delft. Hans Hoogenboom, Creative Commons</h6>     \n",
    "    </div>\n",
    "    <br>   \n",
    "    <br>\n",
    "</header>"
   ],
   "metadata": {}
  },
  {
   "cell_type": "markdown",
   "source": [
    "### Strings\n",
    "We already encountered *strings* in the previous notebooks. Any text placed between single quotes ' or double \" is considered a string in Python. Strings have a lot of similarities with lists; you can index them, they have a length etc. Some things are different though:"
   ],
   "metadata": {}
  },
  {
   "cell_type": "code",
   "execution_count": null,
   "source": [
    "line1 = \"First line\"\n",
    "print(line1[3])\n",
    "\n",
    "# does this work? If not, why?\n",
    "line1[4]= \"h\""
   ],
   "outputs": [],
   "metadata": {}
  },
  {
   "cell_type": "markdown",
   "source": [
    "As you can see, strings are immutable, you can not change them once they are assigned. See also the table at the end of **Part 2**. You can add strings together and multiply them:"
   ],
   "metadata": {}
  },
  {
   "cell_type": "code",
   "execution_count": null,
   "source": [
    "a = 3 * \"Hello! \"\n",
    "b = \"We all live in\"\n",
    "c = \"a yellow submarine.\"\n",
    "# add b + c with a space as seperation\n",
    "d = b + \" \" + c\n",
    "print(a)\n",
    "print(d)"
   ],
   "outputs": [],
   "metadata": {}
  },
  {
   "cell_type": "markdown",
   "source": [
    "You can also create a string by placing text between three double quotes. Though you can use this to create string objects, most of the time this construct is used to create *doc* strings, text that documents what your code does (a doc-string example will be shown later)."
   ],
   "metadata": {}
  },
  {
   "cell_type": "code",
   "execution_count": null,
   "source": [
    "multiline_str = \"\"\"This is a multi-line\n",
    "    string preserving\n",
    "formatting and end of lines (\"enters\")\n",
    "and ignoring single and double quotes (\").\"\"\"\n",
    "print(multiline_str)"
   ],
   "outputs": [],
   "metadata": {}
  },
  {
   "cell_type": "markdown",
   "source": [
    "There are a few methods that can tell you what kind of characters you have in a string:\n",
    "+ `isalnum` : checks wether all characters are alphanumeric.\n",
    "+ `isdigit` : checks wether all characters are digits.\n",
    "+ `isalpha` : checks if all characters are alphabetic."
   ],
   "metadata": {}
  },
  {
   "cell_type": "code",
   "execution_count": null,
   "source": [
    "a = \"12 3 35\"\n",
    "b = \"12345\"\n",
    "c = \"12.345\"\n",
    "d = \"12bk3upto35\"\n",
    "e = \"12bk3upto35!!!!!!!!\"\n",
    "f = \"alltext\"\n",
    "print(a.isalnum(), \"-\", b.isalnum(), \"-\", c.isalnum(), \"-\", d.isalnum(), \"-\", e.isalnum(), \"-\", f.isalnum())"
   ],
   "outputs": [],
   "metadata": {}
  },
  {
   "cell_type": "markdown",
   "source": [
    "In <b>a</b> there are spaces which are not alpahnumeric.<br>\n",
    "<b>b</b> consists of all numbers, which are alphanumeric.<br>\n",
    "<b>c</b> has a dot which is not alphanumeric.<br>\n",
    "<b>d</b> has numbers and characters, both of which are alphanumeric.<br>\n",
    "<b>e</b> has exclamation marks, these are not alphanumeric.<br>\n",
    "<b>f</b> only has alphabetic characters."
   ],
   "metadata": {}
  },
  {
   "cell_type": "code",
   "execution_count": null,
   "source": [
    "print(a.isdigit(), \"-\", b.isdigit(), \"-\", c.isdigit(), \"-\", d.isdigit(), \"-\", e.isdigit(), \"-\", f.isdigit())"
   ],
   "outputs": [],
   "metadata": {}
  },
  {
   "cell_type": "markdown",
   "source": [
    "Only **b** consists completely of numbers. So with `isdigit` you can not see if a number is a float in a text string."
   ],
   "metadata": {}
  },
  {
   "cell_type": "code",
   "execution_count": null,
   "source": [
    "print(a.isalpha(), \"-\", b.isalpha(), \"-\", c.isalpha(), \"-\", d.isalpha(), \"-\", e.isalpha(), \"-\", f.isalpha())"
   ],
   "outputs": [],
   "metadata": {}
  },
  {
   "cell_type": "markdown",
   "source": [
    "Only **f** consists completly of alphabetic characters. What happens when you add a space, is `f.isalpha()` still `True`?\n",
    "\n",
    "You can split up a string with the `split` method into individual elements (words). By default `split` uses spaces to cut up a string. The method will return a list of strings."
   ],
   "metadata": {}
  },
  {
   "cell_type": "code",
   "execution_count": null,
   "source": [
    "sentence = \"This is a sentence\"\n",
    "words = sentence.split()\n",
    "print(\"\\\"\", sentence, \"\\\" has as type \", type(sentence), \".\", sep='')\n",
    "print(words)\n",
    "print(type(words))"
   ],
   "outputs": [],
   "metadata": {}
  },
  {
   "cell_type": "markdown",
   "source": [
    "If you have, for example, a row from a csv file you can use the `split` method with \",\" as argument. In case you don't know what a csv file is: csv stands for comma seperated values. It is a common format to export (Excel) spreadsheets or tables. Each row is exported as a single line of values, where the columns are seperated by commas."
   ],
   "metadata": {}
  },
  {
   "cell_type": "code",
   "execution_count": null,
   "source": [
    "csv_line = \"12,34,test,58,0.01\"\n",
    "csv_list = csv_line.split(\",\")\n",
    "print(csv_list)"
   ],
   "outputs": [],
   "metadata": {}
  },
  {
   "cell_type": "markdown",
   "source": [
    "If you have whitespace at the start and end of a string you can delete those easily with the `strip` method. Variants of this method are the `lstrip` and `rstrip` which only delete spaces at the left or right (start and end) of a string."
   ],
   "metadata": {}
  },
  {
   "cell_type": "code",
   "execution_count": null,
   "source": [
    "whitespace = \"   There are too many spaces here   \"\n",
    "print(whitespace + \".\", sep = '')\n",
    "print(whitespace.strip() + \".\", sep = '')"
   ],
   "outputs": [],
   "metadata": {}
  },
  {
   "cell_type": "markdown",
   "source": [
    "### Type Casting\n",
    "Sometimes you want to convert a certain type of variable to another type. Changing the type of a variable is called *type casting*. You can for example change a float into an integer, disgarding the decimal part, or convert a string of numbers into an integer. There are three functions for type casting:\n",
    "+ `int()` \n",
    "+ `float()`\n",
    "+ `str()`"
   ],
   "metadata": {}
  },
  {
   "cell_type": "code",
   "execution_count": null,
   "source": [
    "a_str = \"2001\"\n",
    "int_from_str = int(a_str)\n",
    "\n",
    "a_flt = 12.345\n",
    "int_from_flt = int(a_flt)\n",
    "\n",
    "str_from_int = str(int_from_str)\n",
    "\n",
    "flt_from_int = float(int_from_str)\n",
    "\n",
    "val = [int_from_str, int_from_flt, str_from_int, flt_from_int]\n",
    "val_type = [type(int_from_str), type(int_from_flt), type(str_from_int), type(flt_from_int)]\n",
    "for x, y in zip(val, val_type):\n",
    "    print(x, \"\\t\", y)"
   ],
   "outputs": [],
   "metadata": {}
  },
  {
   "cell_type": "markdown",
   "source": [
    "### Converting a string of numbers\n",
    "Suppose we have the following line from a csv-file:\n",
    "> \"10,34,23,76,12\"\n",
    "\n",
    "If we want to convert this to a list of numbers we first have to split the string at the comma's and then convert the newly created strings to numbers by using the `int` function."
   ],
   "metadata": {}
  },
  {
   "cell_type": "code",
   "execution_count": null,
   "source": [
    "csv_line = \"10,34,23,76,12\"\n",
    "csv_list = csv_line.split(',')\n",
    "\n",
    "for i, x in enumerate(csv_list):\n",
    "    csv_list[i] = int(x)\n",
    "    \n",
    "for i in csv_list:\n",
    "    print(i, \"-\", type(i))"
   ],
   "outputs": [],
   "metadata": {}
  },
  {
   "cell_type": "markdown",
   "source": [
    "### List comprehension\n",
    "\n",
    "We can do the conversion of the csv_line variable to a list of integers with one line of code instead of the three lines in the example above by using *list comprehension*. In the example above we apply a function, the `int(x)`, on each of the elements in the cvs_list. Since this type of operation is so common in Python (and in programming in general), the list comprehension operator has been made. It has the following syntax:\n",
    "> `[function(x) for x in a]`\n",
    "\n",
    "We can rewrite the above code now as:"
   ],
   "metadata": {}
  },
  {
   "cell_type": "code",
   "execution_count": null,
   "source": [
    "csv_line = \"10,34,23,76,12\"\n",
    "csv_list = [int(x) for x in csv_line.split(',')]\n",
    "\n",
    "print(csv_list)\n",
    "print(type(csv_list[0]))\n"
   ],
   "outputs": [],
   "metadata": {}
  },
  {
   "cell_type": "markdown",
   "source": [
    "It is a bit hard to read when you see this for the first time so let's disect the code on the second line:\n",
    "1. `csv_list = [ ]`: as you can see from the brackets, we assign a list to csv_list\n",
    "2. `csv_line.split(',')`: returns a list of strings\n",
    "3. `for x in csv_line.split(',')`: we iterate over the list, each element ending up in x\n",
    "4. `int(x) for...`: apply the function int(x) to all the elements in the list iteration\n",
    "\n",
    "It is actually better to read it from left to right: so execute int(x) for every x in the list created by csv_line.split(). So the code in front of the for is applied to the elements in the for loop.\n",
    "\n",
    "What happens if you run the same code as in cell 26 but then with the follwing list:<br>\n",
    "`csv_line = \"1,2.17,3.14,2.71,9\"`"
   ],
   "metadata": {}
  },
  {
   "cell_type": "code",
   "execution_count": null,
   "source": [
    "csv_line = \"1,2,3.14,2.71,9\"\n",
    "csv_list = [int(x) for x in csv_line.split(\",\")]"
   ],
   "outputs": [],
   "metadata": {}
  },
  {
   "cell_type": "markdown",
   "source": [
    "#### Exercise:\n",
    "You can solve this by first casting the elements of `csv_line` to another number data_type. To make the code compact you can *nest* the function call. Nesting means to put a function call inside another function call. An answer is at the bottom of this notebook."
   ],
   "metadata": {}
  },
  {
   "cell_type": "code",
   "execution_count": null,
   "source": [
    "# your solution:\n",
    "csv_line = \"1,2,3.14,2.71,9\"\n",
    "csv_list = #your answer"
   ],
   "outputs": [],
   "metadata": {}
  },
  {
   "cell_type": "markdown",
   "source": [
    "### The while loop\n",
    "\n",
    "There is one flow control construct we haven't discussed yet and that is the `while` loop. The while loop runs as long as a certain condition is true. As soon as the condition is false the loop terminates:\n",
    "<blockquote><code>while condition:\n",
    "    do_something</code></blockquote>\n",
    "    \n",
    "If you forget to test the condition or the testing of the condition fails, for example you compare two values that never change, the while loop will run (theoretically) forever. Below you will find a function with a while loop to calculate the square root of a number. There are some new programming tricks here:\n",
    "1. In the function definition the `epsilon = 0.001` represents a default function argument. When the function is called with only one argument, epsilon will get the value specified after the assignment operator.\n",
    "2. `square // 2 if square > 1 else 1.0`: this is a *tenary* operator. If the condition `square > 1` is `True`, then run the code in front of the `if`, else run the code after the `else`.\n",
    "\n",
    "<a name=\"heron\"></a>"
   ],
   "metadata": {}
  },
  {
   "cell_type": "code",
   "execution_count": null,
   "source": [
    "# find the square root of a number using\n",
    "# Heron's method, see this article on Wikipedia\n",
    "# https://en.wikipedia.org/wiki/Methods_of_computing_square_roots\n",
    "# On the wiki, see the part about the Babylonian method\n",
    "\n",
    "def heron_root(square, epsilon = 0.001):\n",
    "    iteration = 0\n",
    "    if square > 0:\n",
    "        guess = square // 2 if square > 1 else 1.0\n",
    "        while abs(square - guess*guess) > epsilon:\n",
    "            guess = ((square/guess) + guess)/2\n",
    "            iteration += 1\n",
    "        return (guess, iteration)\n",
    "    else:\n",
    "        return (\"error\", -1)\n",
    "\n",
    "find_square = 16\n",
    "(answer, iterat1) = heron_root(find_square)\n",
    "(better, iterat2) = heron_root(find_square, 0.0001)\n",
    "\n",
    "print(answer, \"-\", iterat1)\n",
    "print(better, \"-\", iterat2)"
   ],
   "outputs": [],
   "metadata": {}
  },
  {
   "cell_type": "markdown",
   "source": [
    "Can you think of a number that will:\n",
    "+ Terminate with an error (very easy).\n",
    "+ Terminate with 0 iterations (two answers possible).\n",
    "\n",
    "Play with epsilon value in the second function call, to see how fast (the number of iterations) this algorithm is. This is called **convergence**; as the iterations proceed the error becomes smaller and smaller. If you run the code with the default value of epsilon and one time with a value of 0.0001, you see that both function calls take the same number of iterations. With only four runs the error is smaller then the width of a hair...which is somewhere between 17 to 181 ${\\mu}m$ (see this [wikipedia](https://en.wikipedia.org/wiki/Hair's_breadth) article)."
   ],
   "metadata": {}
  },
  {
   "cell_type": "markdown",
   "source": [
    "## Working with files\n",
    "In Python files are just objects. You can open or create a file with the `open` function and close a file by calling the `close` method on a file object:\n",
    "<blockquote><code>temp_file = open(\"myfile.txt\", \"w\")\n",
    "temp_file.close()</code></blockquote>\n",
    "\n",
    "The `open` function takes a string as first argument, which is the *path* to the file, and a second optional argument for the file mode. If the file does not already exist, Python will create a new file. The file mode argument will tell Python what you are going to do with the file. it can have the following values:\n",
    "+ \"r\": open as read only file\n",
    "+ \"w\": open as write only file\n",
    "+ \"a\": only append to file\n",
    "\n",
    "When you are working with binary files you should add a *b*, from binary, to the flag, e.g.: \"rb\". The `open` function returns a file object. Some methods of this object are `read`, `readline`, `readlines`, `write`, `writelines` and the aforementioned `close`.\n",
    "\n",
    "<font color=red><h2>WARNING:</h2>\n",
    "If you give a name of an <b>existing</b> file and open it as write only, you will destroy all the contents of the file!\n",
    "</font>"
   ],
   "metadata": {}
  },
  {
   "cell_type": "code",
   "execution_count": null,
   "source": [
    "# create a file if it does not exist and\n",
    "# return a file object with write access\n",
    "my_file = open(\"silly_test_file.txt\", \"w\")\n",
    "# write a silly line (quote from the Ministry of Silly Walks)\n",
    "# https://en.wikipedia.org/wiki/The_Ministry_of_Silly_Walks\n",
    "my_file.write(\"I’m sorry to have kept you waiting, but I’m afraid my walk has become rather sillier recently.\")\n",
    "# close the file! NEVER FORGET TO CLOSE FILES\n",
    "my_file.close()\n",
    "\n",
    "# open a file for reading\n",
    "silly_file = open(\"silly_test_file.txt\", \"r\")\n",
    "# read a single line\n",
    "silly_line = silly_file.readline()\n",
    "# close the file even when just reading from it! \n",
    "silly_file.close()\n",
    "# print something silly\n",
    "print(silly_line)\n"
   ],
   "outputs": [],
   "metadata": {}
  },
  {
   "cell_type": "markdown",
   "source": [
    "If you want to look up the file on your computer, it is probably in the *C:\\User\\your user name\\* directory, not in the  My Documents directory.\n",
    "\n",
    "## Creating your own objects\n",
    "\n",
    "We have now covered most of the standard objects in Python and a lot of operators and flow control structures. Now if you read the previous sentence again, you see standard objects...so what are the non standard objects? Those are objects you can create yourself.\n",
    "\n",
    "Most programming languages these days are \"*object orientated*\". What does that mean? In non object orientated languages you have (custom) data (types) and seperate functions, manipulating the data. In object orientated languages you have data plus functions encapsulated in one (custom) data type. For example: in the C programming language, if you want to calculate the length of a list - called arrays in C - which can only contain a single data type, let's say integers, you would lookup the size of the array in your computer's memory and then divide it by the memory size of a single integer. In Python you **could** just use my_list.\\_\\_len\\_\\_(). Okay, okay, yes, you **should** use the len() function, see this thread on [StackOverflow](https://stackoverflow.com/questions/2481421/difference-between-len-and-len). The point is that in Python you just use a method that does all the calculations for free while in C you have to do it yourself.\n",
    "\n",
    "How do you make your own custom object? You use the `class` keyword plus a name describing your object and then add some parentheses plus a **:** like below:"
   ],
   "metadata": {}
  },
  {
   "cell_type": "code",
   "execution_count": null,
   "source": [
    "class MyFirstClass():\n",
    "    pass\n",
    "\n",
    "first_class = MyFirstClass()\n",
    "print(type(first_class))"
   ],
   "outputs": [],
   "metadata": {}
  },
  {
   "cell_type": "markdown",
   "source": [
    "The `pass` statement does nothing. Sometimes this is very useful. If you delete it from the cell and rerun the cell, Python will give an error, something with indentation blocks. By adding the `pass` statment the code works again. When you *design* your program, `pass` can be useful as a placeholder for the time being. You can start *prototyping* your code without actually writing all the nity gritty details at the start.\n",
    "\n",
    "So your first class does nothing right now. But you do see that you created a new type, '\\_\\_main\\_\\_.MyFirstClass'. We did some type checking before, by comparing the strings of the output of the `type` function. There is a better way though by using the `isinstance` function:"
   ],
   "metadata": {}
  },
  {
   "cell_type": "code",
   "execution_count": null,
   "source": [
    "print(isinstance(first_class, MyFirstClass))\n",
    "print(isinstance(first_class, dict))"
   ],
   "outputs": [],
   "metadata": {}
  },
  {
   "cell_type": "markdown",
   "source": [
    "Let's create a more useful class, for example a point class. It needs to live in 3D space so we need an x, y and z value. To add data to a class we need to create a special function that is part of all classes, which is called \\_\\_init\\_\\_ (that is two underscores on each side of init):"
   ],
   "metadata": {}
  },
  {
   "cell_type": "code",
   "execution_count": null,
   "source": [
    "class point3d():\n",
    "    def __init__(self, x, y, z):\n",
    "        self.x = x\n",
    "        self.y = y\n",
    "        self.z = z\n",
    "\n",
    "\n",
    "myPoint = point3d(12, 3, 5)"
   ],
   "outputs": [],
   "metadata": {}
  },
  {
   "cell_type": "markdown",
   "source": [
    "So what is with the weird *self* thing? When we assign myPoint the point3d object with the specified values, Python creates an *instance* of the class point3d. Python reserves a location in memory for this object. The object has three integers as value so there is memory space reserved for them as well. The self can be seen as uniquely pointing to the object you just created. You can change _self_ into something else, it is not a reserved keyword in Python, you could give it the name of your favourite band if you wanted to. But the use of _self_ became kind of like the standard, every seasoned Python programmer will know what you mean by _self_.\n",
    "\n",
    "Let's add a *method* that prints out the point coordinates:"
   ],
   "metadata": {}
  },
  {
   "cell_type": "code",
   "execution_count": null,
   "source": [
    "class point3d():\n",
    "    def __init__(self, x, y, z):\n",
    "        self.x = x\n",
    "        self.y = y\n",
    "        self.z = z\n",
    "    \n",
    "    def print_points(self):\n",
    "        print(\"x:\", self.x, \"\\ty:\", self.y, \"\\tz:\", self.z)     \n",
    "\n",
    "\n",
    "aPoint = point3d(12, 3, 5)\n",
    "bPoint = point3d(3, 7, 9)\n",
    "aPoint.print_points()\n",
    "bPoint.print_points()"
   ],
   "outputs": [],
   "metadata": {}
  },
  {
   "cell_type": "markdown",
   "source": [
    "As you can see, _methods_ are nothing more then functions which are part of an object.<br>We can add a docstring to our class to explain what it does using the triple doublequote!"
   ],
   "metadata": {}
  },
  {
   "cell_type": "code",
   "execution_count": null,
   "source": [
    "class point3d():\n",
    "    \"\"\"A very simple 3d point class.\"\"\"\n",
    "    \n",
    "    def __init__(self, x, y, z):\n",
    "        self.x = x\n",
    "        self.y = y\n",
    "        self.z = z\n",
    "    \n",
    "    def print_points(self):\n",
    "        print(\"x:\", self.x, \"\\ty:\", self.y, \"\\tz:\", self.z)\n",
    "\n",
    "        \n",
    "cPoint = point3d(0.5, 7, 2.45)\n",
    "# prints a lot of stuff\n",
    "help(point3d)\n",
    "# empty line\n",
    "print()\n",
    "# only prints the docstring\n",
    "print(point3d.__doc__)"
   ],
   "outputs": [],
   "metadata": {}
  },
  {
   "cell_type": "markdown",
   "source": [
    "Let's add a few more methods to our point: a method to move the point and a method to calculate the distance from *the* origin. The move method should just change the point value of our object while the distance will *return* the (Euclidian) distance of the point."
   ],
   "metadata": {}
  },
  {
   "cell_type": "code",
   "execution_count": null,
   "source": [
    "class point3d():\n",
    "    \"\"\"A very simple 3d point class.\"\"\"\n",
    "    \n",
    "    def __init__(self, x, y, z):\n",
    "        self.x = x\n",
    "        self.y = y\n",
    "        self.z = z\n",
    "    \n",
    "    def print_point(self):\n",
    "        \"\"\"Pretty print the point coordinates.\"\"\"\n",
    "        print(\"x:\", self.x, \"\\ty:\", self.y, \"\\tz:\", self.z)\n",
    "        \n",
    "    def move(self, x, y, z):\n",
    "        \"\"\"Move point by x, y, z.\"\"\"\n",
    "        self.x = self.x + x\n",
    "        self.y = self.y + y\n",
    "        # a bit shorter\n",
    "        self.z += z\n",
    "        \n",
    "    def distance(self):\n",
    "        \"\"\"Return the Euclidian distance.\"\"\"\n",
    "        return(self.x**2 + self.y**2 + self.z**2)**0.5\n",
    "    \n",
    "\n",
    "# docstrings make sense!\n",
    "help(point3d)\n",
    "\n",
    "cPoint = point3d(0.5, 7, 2.45)\n",
    "cPoint.print_point()\n",
    "\n",
    "cPoint.move(2, 4, -1)\n",
    "cPoint.print_point()\n",
    "\n",
    "c_dist = cPoint.distance()\n",
    "print(\"Distance from the center:\", c_dist)\n",
    "print(2.45 - 1.0)"
   ],
   "outputs": [],
   "metadata": {}
  },
  {
   "cell_type": "markdown",
   "source": [
    ">#### Intermezzo 4: Floating point numbers and accuracy\n",
    "Did you see something really, really weird in the output of the code? How much is 2.45 - 1.00? Surely not 1.4500000000000002.\n",
    ">\n",
    ">Computers have a real hard time with floating point numbers. For example the rational number 1/3 has an unlimited amount of decimals. It is impossible to store these numbers in the computer memory. Even for us humans, rational numbers pose issues. If we see the number 0.33333333 and we mutliply it by 3 we probably would give 1.0 as answer. But what if the number was really 0.33333333 and not a truncated representation of 1/3? And what happens with a number 2/3? If you truncate that number after that many decimals, what will the last number be: a 6 or are we going to round it up to 7? If we use symbolic notation there is no issue of course but computers can't do that.\n",
    ">\n",
    ">See also [this](https://en.wikipedia.org/wiki/Arbitrary-precision_arithmetic) and this [article](https://en.wikipedia.org/wiki/Floating-point_arithmetic) on Wikipedia (you can just read the introduction to get the idea). Let us take a look at another example:"
   ],
   "metadata": {}
  },
  {
   "cell_type": "code",
   "execution_count": null,
   "source": [
    "a = 1.0 / 11.0\n",
    "b = 11.0 * a\n",
    "c = 1 - b\n",
    "# everything okay here\n",
    "print(c, \"\\n\")\n",
    "\n",
    "for i in range(1, 12):\n",
    "    val_a = i / 11.0\n",
    "    val_b = i * a\n",
    "    print(val_a, \"\\tequals \", val_b, \":\\t\", val_a == val_b, sep='')"
   ],
   "outputs": [],
   "metadata": {}
  },
  {
   "cell_type": "markdown",
   "source": [
    ">As you can see sometimes the comparison fails due to rounding errors. This is something to be aware of, especially when using a comparison for equality. Instead of using == it is better to use >= or <= or the syntax we used in the `while` loop of [Heron's method](#heron):\n",
    ">>`abs(square - guess*guess) > epsilon`\n",
    ">\n",
    ">Ideally we want the variable *square* to be equal to the square of the square root of the solution so: `square - guess*guess = 0`. Since we are using an approximation, chances are very unlikely that we will get such a result. There will probably be a small difference or error. This error is simply the result of `square - guess*guess`. If we let the while loop run for a long enough time, it will get more and more accurate. We can set this accuracy to some very small number, denoted by the variable *epsilon*.\n",
    ">\n",
    ">Now what is the best way to test if we want a certain level of accuracy? Testing for equality will fail for sure; the chances that the error expression will be exactly equal to *epsilon* are nil - so no == operator. The error should be smaller than _epsilon_ so the \\> operator is out of the question too. So that leaves us with the smaller than operator, <.<br>\n",
    ">So the test should be `square - guess**2 < eps`. There is an issue here, or rather a big bug. Suppose we are trying to find the square root of 25. If we choose 6 as our initial guess then our *while* loop would terminate immediately since $25 - 36 = -11$ which is a **lot** smaller then *eps* but has a rather large error! Not what we want. The ideal situation then, is to have the absolute value of the error: `abs(square-guess**2)`. In this case if guess equals 6, we would end up with 11 instead of -11 and the while loop will continue. If we are looking for an approximation then we want to be as close as possible. Most of the time it doesn't matter if it is a little bit more or less.\n",
    ">\n",
    ">> An alternative would be `-eps < square - guess**2 and square - guess**2 < eps`<br>\n",
    ">> but that is a lot more code and a bit harder to read.\n",
    ">\n",
    ">Below you find two ways to test the equality of of *val_a* and *val_b* from the code in the cell above:"
   ],
   "metadata": {}
  },
  {
   "cell_type": "code",
   "execution_count": null,
   "source": [
    "a =  1.0/11.0\n",
    "\n",
    "# very accurate 1E-17\n",
    "eps = 0.00000000000000001\n",
    "# accurate enough 1E-15\n",
    "# uncomment the line below see all the outcomes print True\n",
    "#eps = 0.000000000000001\n",
    "\n",
    "# use the absolute value syntax\n",
    "for i in range(1, 12):\n",
    "    val_a = i / 11.0\n",
    "    val_b = i * a\n",
    "    print(val_a, \"\\tequals \", val_b, \":\\t\", abs(val_a-val_b) < eps, sep='')\n",
    "\n",
    "#empty line\n",
    "print()\n",
    "\n",
    "# use the isclose() function from the math library\n",
    "import math    \n",
    "for i in range(1,12):\n",
    "    val_a = i / 11.0\n",
    "    val_b = i * a\n",
    "    print(val_a, \"\\tequals \", val_b, \":\\t\", math.isclose(val_a, val_b), sep='')"
   ],
   "outputs": [],
   "metadata": {}
  },
  {
   "cell_type": "markdown",
   "source": [
    "Alright that was a rather lengthy intermezzo, let's get back to objects! We are going to add one more method which is a method to add two points together and by doing so create a new point."
   ],
   "metadata": {}
  },
  {
   "cell_type": "code",
   "execution_count": null,
   "source": [
    "class point3d():\n",
    "    \"\"\"A very simple 3d point class.\"\"\"\n",
    "    def __init__(self, x, y, z):\n",
    "        self.x = x\n",
    "        self.y = y\n",
    "        self.z = z\n",
    "    \n",
    "    def print_point(self):\n",
    "        \"\"\"Pretty print the point coordinates.\"\"\"\n",
    "        print(\"x:\", self.x, \"\\ty:\", self.y, \"\\tz:\", self.z)\n",
    "        \n",
    "    def move(self, x, y, z):\n",
    "        \"\"\"Move point by x, y, z.\"\"\"\n",
    "        self.x = self.x + x\n",
    "        self.y = self.y + y\n",
    "        # a bit shorter\n",
    "        self.z += z\n",
    "        \n",
    "    def distance(self):\n",
    "        \"\"\"Return the Euclidian distance.\"\"\"\n",
    "        return(self.x**2 + self.y**2 + self.z**2)**0.5\n",
    "    \n",
    "    def __add__(self, other):\n",
    "        \"\"\"Add one point to another and return a new point object.\"\"\"\n",
    "        # check if the other object is from the same class\n",
    "        if(isinstance(other, point3d)):\n",
    "            return point3d(self.x + other.x, self.y + other.y, self.z + other.z)\n",
    "\n",
    "\n",
    "# create 10 points and put them in a list\n",
    "pt_list = []\n",
    "for i in range(0,10):\n",
    "    pt_list.append(point3d(i, 2*i, i*i))\n",
    "    \n",
    "print(len(pt_list))\n",
    "# add two points together and add them to pt_list\n",
    "pt_list.append(pt_list[0] + pt_list[1])\n",
    "print(len(pt_list))\n",
    "pt_list[10].print_point()"
   ],
   "outputs": [],
   "metadata": {}
  },
  {
   "cell_type": "markdown",
   "source": [
    "The *\\_\\_add\\_\\_* method use double underscores. This means it is a *special method*. When you have two objects and you add them using the + operator, Python checks if the objects have the \\_\\_add\\_\\_ method. If that is the case Python will try to execute the expression. The expression might still fail in case the two objects have different types and there is no code on how to resolve this, for example by adding a integer to a string.\n",
    "\n",
    "Most of the special methods are *inherited* when you create a new object. When we define a class we use the class keyword, give it a name and then use the parentheses. Python adds something between those parentheses if you leave them empty and that is the name of the default object called *object*. So the class point3d is actually defined as:\n",
    ">`class point3d(object):`\n",
    "\n",
    "If you do a dir(object) you will see that the base object *object* only has special classes:"
   ],
   "metadata": {}
  },
  {
   "cell_type": "code",
   "execution_count": null,
   "source": [
    "dir(object)"
   ],
   "outputs": [],
   "metadata": {}
  },
  {
   "cell_type": "markdown",
   "source": [
    "When you comment out the just added *\\_\\_add\\_\\_* method and you do a `print(dir(point3d))` you will see that `point3d` does not have the special add method. When you try to execute the code `pt_list.append(pt_list[0] + pt_list[1])`, Python will return an error. So by adding the special add method, we explain to Python how it should deal with adding two point3d objects together. Overriding the behaviour of operators like the + or / is called *[operator overloading](https://en.wikipedia.org/wiki/Operator_overloading)*.\n",
    "\n",
    "Okay, we continue. Let's create a bunch of random points and write them to a file. We are going to format the file in such a way that we can open it in Rhino. One of the most standard file formats for CAD is the Wavefront Obj format. It is a very simple text file that lists points (vertices), faces (as a list of vertices) etc. For the specification of the file format see this [Wikipedia](https://en.wikipedia.org/wiki/Wavefront_.obj_file) page."
   ],
   "metadata": {}
  },
  {
   "cell_type": "code",
   "execution_count": null,
   "source": [
    "import random\n",
    "\n",
    "# create a list of random points\n",
    "pt_list = []\n",
    "num_pts = 100\n",
    "min_coord = -50\n",
    "max_coord = 50\n",
    "\n",
    "for i in range(num_pts):\n",
    "    # random.uniform returns a floating point number\n",
    "    # between min_coord and max_coord\n",
    "    x = random.uniform(min_coord, max_coord)\n",
    "    y = random.uniform(min_coord, max_coord)\n",
    "    z = random.uniform(min_coord, max_coord)\n",
    "    pt_list.append(point3d(x, y, z))\n",
    "    \n",
    "# get user name and date for file header\n",
    "import getpass\n",
    "import datetime\n",
    "cur_user = getpass.getuser()\n",
    "cur_date = datetime.datetime.now()\n",
    "# this is an f-string, see: https://docs.python.org/3/reference/lexical_analysis.html#f-strings\n",
    "file_header = '# created by {cuser} on {cdate}\\n'.format(cuser =  cur_user, cdate = cur_date)\n",
    "\n",
    "# create a Wavefront obj file and write data\n",
    "obj_file = open(\"random_points.obj\", \"w\")\n",
    "obj_file.write(file_header)\n",
    "for pnt in pt_list:\n",
    "    cur_vertex = \"v \" + str(pnt.x) + \" \" + str(pnt.y) + \" \" + str(pnt.z) +\"\\n\"\n",
    "    obj_file.write(cur_vertex)\n",
    "obj_file.write(\"# end\")\n",
    "obj_file.close()"
   ],
   "outputs": [],
   "metadata": {}
  },
  {
   "cell_type": "markdown",
   "source": [
    "Let's draw some lines. Suppose we want to connect two random points with a line."
   ],
   "metadata": {}
  },
  {
   "cell_type": "code",
   "execution_count": null,
   "source": [
    "# in case pt_list has odd number of points\n",
    "num_lines = len(pt_list) // 2\n",
    "# we need this many points\n",
    "num_pts   = num_lines * 2\n",
    "# create a range of numbers (a range object) and\n",
    "# convert it to a list\n",
    "indices   = list(range(0, num_pts))\n",
    "rand_range = num_pts - 1\n",
    "\n",
    "# list to contain the lines\n",
    "lines_list = []\n",
    "for i in range(num_lines):\n",
    "    # explantion of the following line of code\n",
    "    # in the text below\n",
    "    pt_0 = indices.pop(random.randint(0, rand_range - i*2))\n",
    "    pt_1 = indices.pop(random.randint(0, rand_range - (i*2 + 1)))\n",
    "    # lines are defind in an obj file by the letter l\n",
    "    # followed by the vertex numbers (at least two), start counting from 1 (not 0!)\n",
    "    lines_list.append(\"l \" + str(pt_0 + 1) + \" \" + str(pt_1 + 1) + \"\\n\")\n",
    "\n",
    "# update the file header with the current time\n",
    "cur_date = datetime.datetime.now()\n",
    "file_header = '# created by {cuser} on {cdate}\\n'.format(cuser =  cur_user, cdate = cur_date)\n",
    "\n",
    "# create a Wavefront obj file and write data\n",
    "obj_file = open(\"random_lines.obj\", \"w\")\n",
    "obj_file.write(file_header)\n",
    "\n",
    "# first write the vertices/points\n",
    "obj_file.write(\"# vertex section\\n\")\n",
    "for pnt in pt_list:\n",
    "    cur_vertex = \"v \" + str(pnt.x) + \" \" + str(pnt.y) + \" \" + str(pnt.z) +\"\\n\"\n",
    "    obj_file.write(cur_vertex)\n",
    "    \n",
    "# then write the lines, they are already strings so\n",
    "# we can write them directly to the file\n",
    "obj_file.write(\"# lines section\\n\")\n",
    "for line in lines_list:\n",
    "    obj_file.write(line)\n",
    "    \n",
    "obj_file.write(\"# end\")\n",
    "# and close the file!\n",
    "obj_file.close()"
   ],
   "outputs": [],
   "metadata": {}
  },
  {
   "cell_type": "markdown",
   "source": [
    "So at line 15 and 16 in the code above we have:\n",
    ">`pt_0 = indices.pop(random.randint(0, rand_range - i*2))`\\\n",
    "`pt_1 = indices.pop(random.randint(0, rand_range - (i*2 + 1)))`\n",
    "\n",
    "What does it do? We need to have two random points for our line. In the code outside of the for loop we make sure that we have an even number of points: `num_lines * 2`. `random.randint` returns a number from 0 up to and including *rand_range*. This can give an error of *list index out of range* so that is why `rand_range = num_pts - 1`. Then with each iteration we want to have a random number between 0 and `rand_range`. But once we have used a certain number, we want to delete it from the list so we can not use it a second time. That is what the `pop` method is doing. It returns an element from a certain index and at the same time deletes it from the list.<br>\n",
    "With each iteration, the numbers we can randomly choose from become smaller. On the first iteration, i is zero and `i*2` is thus zero as well, so *pt_0* has the full range of indices to its disposal. We get a random index from the list *indices* and put that in *pt_0* and delete it from indices with pop. But with *pt_1* we already have less choice, so we subtract <b>1</b> from *rand_range* reflecting the fact that the list *indices* has become one element smaller. On the next iteration when `i = 2`, we subract <b>2</b> in the *pt_0* expression and <b>2 + 1</b> from the *pt_1* expression, etc.\n",
    "\n",
    "#### Exercise\n",
    "Since we have random points, creating random lines doesn't make much sense...we just get more randomness whatever that may be. So try to create a nicely ordered three dimensional set of points and then create a dashed line, i.e. connecting two points and leave a space of one line segment with the next line. Try to create one setup with vertical lines and one setup with horizontal lines. To get you started:"
   ],
   "metadata": {}
  },
  {
   "cell_type": "code",
   "execution_count": null,
   "source": [
    "# 3d uniform grid\n",
    "pt_lst = []\n",
    "dim_x = 10\n",
    "dim_y = 10\n",
    "dim_z = 10\n",
    "\n",
    "for i in range(dim_x):\n",
    "    for j in range(dim_y):\n",
    "        for k in range(dim_z):\n",
    "            pt_list.append(point3d(i, j, k))"
   ],
   "outputs": [],
   "metadata": {}
  },
  {
   "cell_type": "markdown",
   "source": [
    "This concludes the third part of the introduction to programming in Python. Below you will find the answer to the excercise to convert the string of numbers. Also included some other examples of list comprehension.\n",
    "## Answers"
   ],
   "metadata": {}
  },
  {
   "cell_type": "code",
   "execution_count": null,
   "source": [
    "# convert all numbers to floats\n",
    "csv_list = \"1,2,3.14,2.71,9\"\n",
    "new_list = [float(x) for x in csv_list.split(\",\")]\n",
    "print(new_list)\n",
    "\n",
    "# ANSWER: convert all numbers to integers\n",
    "# first convert to float then to integers by nesting the float function\n",
    "new_list = [int(float(x)) for x in csv_list.split(\",\")]\n",
    "print(new_list)\n",
    "\n",
    "# convert only the integers (strings that only have numbers)\n",
    "# do note that the IF statement is AFTER the for loop syntax\n",
    "new_list = [int(x) for x in csv_list.split(\",\") if x.isdigit()]\n",
    "print(new_list)\n",
    "\n",
    "# convert all numbers and keep the type intact\n",
    "# do note that the IF..ELSE statement is BEFORE the for loop\n",
    "new_list = [int(x) if x.isdigit() else float(x) for x in csv_list.split(\",\")]\n",
    "print(new_list)"
   ],
   "outputs": [],
   "metadata": {}
  },
  {
   "cell_type": "markdown",
   "source": [
    "## Links and References\n",
    "[Wavefront Obj file format explanation](https://en.wikipedia.org/wiki/Wavefront_.obj_file)<br>\n",
    "  [Python Pep 8: How to format your code](https://www.python.org/dev/peps/pep-0008/)<br>\n",
    "  [The Python Tutorial, because more tutorials are always good](https://docs.python.org/3/tutorial/index.html)\n",
    "\n",
    "## For further reading\n",
    "A gentle introduction to Python, available as PDF in the TU Delft Library:<br>\n",
    "[Python Crash Course](https://nostarch.com/pythoncrashcourse2e)\n",
    "\n",
    "A bit more advanced, focused a bit more on computational thinking:<br>\n",
    "[Introduction to Computation and Programming Using Python](https://mitpress.mit.edu/books/introduction-computation-and-programming-using-python-second-edition)\n",
    "\n",
    "716 pages of everything you wanted to know about Python but were affraid to ask.<br>\n",
    "Reference manual, so dry text but very thorough. For the die hards:<br>\n",
    "[Python Essential Reference](https://www.pearson.com/us/higher-education/program/Beazley-Python-Essential-Reference-4th-Edition/PGM84734.html)\n",
    "\n",
    "### THE END (of part 3)\n",
    "###### Hans Hoogenboom, Oct. 2020"
   ],
   "metadata": {}
  }
 ],
 "metadata": {
  "kernelspec": {
   "name": "python3",
   "display_name": "Python 3.8.5 64-bit ('earthy': conda)"
  },
  "language_info": {
   "codemirror_mode": {
    "name": "ipython",
    "version": 3
   },
   "file_extension": ".py",
   "mimetype": "text/x-python",
   "name": "python",
   "nbconvert_exporter": "python",
   "pygments_lexer": "ipython3",
   "version": "3.8.5"
  },
  "interpreter": {
   "hash": "6a9983edd6343d9d7472c527d6fcc61324940c388a3481e05c81688fc90d2d61"
  }
 },
 "nbformat": 4,
 "nbformat_minor": 2
}