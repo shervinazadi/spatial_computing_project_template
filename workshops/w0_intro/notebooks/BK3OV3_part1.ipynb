{
 "cells": [
  {
   "cell_type": "markdown",
   "source": [
    "<header>\n",
    "    <div style=\"overflow: auto;\">\n",
    "        <img src=\"./images/TUDelft.jpg\" style=\"float: left;\" />\n",
    "        <img src=\"./images/DUT_Flame.png\" style=\"float: right; width: 100px;\" />\n",
    "    </div>\n",
    "    <div style=\"text-align: center;\">\n",
    "        <h1> BK3OV3 </h1>\n",
    "        <h1>Python, Rhino and Grasshopper</h1>\n",
    "        <h2>Part 1 : introduction</h2>\n",
    "        <h6>&copy; 2020, TU Delft. Hans Hoogenboom, Creative Commons</h6>     \n",
    "    </div>\n",
    "    <br>   \n",
    "    <br>\n",
    "</header>"
   ],
   "metadata": {}
  },
  {
   "cell_type": "markdown",
   "source": [
    "## Python as a Calculator\n",
    "We start the Python programming workshop with some very simple examples on how to use Python, mainly to introduce some of the concepts of programming in general (aka the *lingo* - the special vocabulary of a particular field of interest, which is, in this case, Python). Computers are very good at calculating things. They can do this with amazing speeds: your laptop can do around 83.000.000.000 calculations in a single second! So the examples below are a bit of an insult to the power of the computer (and probably your intellect as well).\n",
    "\n",
    "When you type in a statement in a cell in this Jupyter notebook you can execute it by pressing ***shift enter*** in the cell or by clicking on the ***Run*** button above in the menu."
   ],
   "metadata": {}
  },
  {
   "cell_type": "code",
   "execution_count": null,
   "source": [
    "4 * 3"
   ],
   "outputs": [],
   "metadata": {}
  },
  {
   "cell_type": "code",
   "execution_count": null,
   "source": [
    "x_coordinate = 3\n",
    "y_coordinate = 5\n",
    "lijn = 2 * x_coordinate + y_coordinate\n",
    "lijn"
   ],
   "outputs": [],
   "metadata": {}
  },
  {
   "cell_type": "markdown",
   "source": [
    "#### Assignments\n",
    "While this is a very simple example it already illustrates some of the core concepts of programming. In the first cell above we have an *expression*, **4 * 2**, the result being printed to the screen (and this is magically done by Python and the Jupyter notebook program).\n",
    "\n",
    "In the second cell we first *assign* the *value* (or data) to a *variable*. The value **4** gets *assigned* to a *variable* with the name **x**. The equal sign (**=**) is the *assignment operator*. The assignment operator creates a link between a name (variable) and a value (data). The complete first line in the cell above is a *statement*. It is executed from right to left. First the expression *4 * 2* is evaluated, resulting in 8. This result is then assigned to the *variable* **a** with the assignment operator. By assigning data to named variables we can reuse them later in our code (much like the MR key on your calculator).\n",
    "\n",
    "If you put just a variable on the last line of a cell, Jupyter notebook will print the value of that variable.\n",
    "#### Naming Variables\n",
    "A name of a variable can start with a (capital) letter or the underscore character (_shift -_ on your keyboard: \\_ ) and any additional non special characters or numbers. It is important to remember that a variable with the name *Myvar* is different from the name *myvar*. It is good practice to give a variable a meaningful name. A name cannot start with a number:"
   ],
   "metadata": {}
  },
  {
   "cell_type": "code",
   "execution_count": null,
   "source": [
    "_a = 12\n",
    "name12 = 12"
   ],
   "outputs": [],
   "metadata": {}
  },
  {
   "cell_type": "markdown",
   "source": [
    "\n",
    "#### Reserved Python Keywords\n",
    "The following words are Python **keywords** (or reserved words) and cannot be used for names:\n",
    "\n",
    "| &nbsp;  | &nbsp;   | &nbsp;   | &nbsp;  |  &nbsp; |\n",
    "| :--- | :--- | :--- | :--- | :--- |\n",
    " False | await | else | import | pass\n",
    " None | break | except | in | raise\n",
    "True | class | finally | is | return\n",
    "and | continue | for | lambda | try\n",
    "as | def |  from |  nonlocal | while\n",
    "assert | del |    global | not | with\n",
    "async | elif | if | or | yield\n",
    "\n",
    "A keyword is a special instruction for Python. If you use any of these names as variables, Python will return an error.\n",
    "\n",
    "#### Operators\n",
    "The * on the first line of code is an operator, a symbol that usually represents an action or proces like multiplication. We all know the default mathematical operators from our keyboards: +, \\-, * and / (addition, subtraction, multiplication and division). Beside these Python, has some other math operators:\n",
    "\n",
    "&emsp;    ** &emsp; for raising a number to a power<br>\n",
    "&emsp; // &emsp; for integer division<br>\n",
    "&emsp; % &emsp; for the modulo operator (get the remainder of a division)\n",
    "#### Examples:"
   ],
   "metadata": {}
  },
  {
   "cell_type": "code",
   "execution_count": null,
   "source": [
    "# example of division, integer division and modulo operator\n",
    "a = 72\n",
    "b = 7\n",
    "c = 3\n",
    "result1 = a / b\n",
    "result2 = a // b\n",
    "result3 = a % b\n",
    "print(result1)\n",
    "print(result2)\n",
    "print(result3)"
   ],
   "outputs": [],
   "metadata": {}
  },
  {
   "cell_type": "code",
   "execution_count": null,
   "source": [
    "# raising a number to a power (square root and root in case of a value smaller then 1)\n",
    "a = 9\n",
    "b = 3\n",
    "c = 1/3\n",
    "print(a**b)\n",
    "print(a**c)"
   ],
   "outputs": [],
   "metadata": {}
  },
  {
   "cell_type": "markdown",
   "source": [
    "The results of the first division is self explanatory. The second division divides until it reaches decimals, then it stops the dividing process. The modulo operator \n",
    "\n",
    "#### Comments\n",
    "In the code examples above you see that the text gets a different color. Operators are colored purple, our variables are black and our data and the **print** function are green. The text after the # (hash) sign is blue/green (?) and in italics. This line is not executed when you run the code, it is a comment. Try removing the hash and re-run the cell and see what happens. Comments are useful to explain what the code does. If you write a program it is good practice to add some comments here and there in case you revisit your code weeks or months later.\n",
    "#### Builtin Functions\n",
    "The **print** function is part of the Python programming language. In the early days of programming you had to program litterlay everything to get a result. You had to write your own code to print something to a screen or to a printer. People got bored of doing this every time they had to write a program so they started to make libraries with some predifened functions. Python already has a lot of libraries included and many more can be downloaded, or better yet, easily installed through some programs included with Python, from the [Pypi website](https://pypi.org/). On this [webpage](https://docs.python.org/3/library/index.html) you can find all the default Python libraries. In the examples below we will make use of some of those libraries, so don't worry if you are overwhelmed by the number and explanation of the use of these libraries on those webpages.\n",
    "#### Grouping Mathematical Operators\n",
    "Again, like on your calculator, you can group mathematical expressions by placing them between parenthesis ( the ( and ) ). So 3 * (4 + 3) will return a different result then 3 * 4 + 3. \n",
    "### Exercises\n",
    "With the knowledge you have right now, you are already able to make some useful time saving programs. The answers are at the end of this notebook.\n",
    "#### Exercise 1:"
   ],
   "metadata": {}
  },
  {
   "cell_type": "code",
   "execution_count": null,
   "source": [
    "# check if a number is even\n",
    "# check if a number is odd\n",
    "7434534634534523453433786 / 3"
   ],
   "outputs": [],
   "metadata": {}
  },
  {
   "cell_type": "markdown",
   "source": [
    "#### Exercise 2:"
   ],
   "metadata": {}
  },
  {
   "cell_type": "code",
   "execution_count": null,
   "source": [
    "# Write a program that calculates the reaction forces and the maximum \n",
    "# deflection of a beam with a load of q Kn/m and a force of f Kn at\n",
    "# the midpoint of the beam. Both side of the beams are hinges and one\n",
    "# side of the beam is on rollers.\n",
    "#\n",
    "# The steel profile is a HE200A."
   ],
   "outputs": [],
   "metadata": {}
  },
  {
   "cell_type": "markdown",
   "source": [
    "### Different types of data: scalar, non-scalar\n",
    "The simplest type of data in Python are scalar data types, data that can be described by a single number. You all remember the natural numbers and irrational numbers from secondary education:\n",
    "1. Natural numbers (N, Z): 1, -12, 0\n",
    "2. Rational and irrational numbers (Q, R): 3.45\n",
    "\n",
    "In the world of computers, natural numbers are called *integers* (or ints for short). Rational and Real numbers are called *floats*. Python has a few other scalar data types:\n",
    "\n",
    "3. Booleans: True or False (0 or 1)\n",
    "4. None: is a single value, mostly used internally in Python.\n",
    "\n",
    "The Boolean data type, or Bool for short, is named after <a href=\"https://en.wikipedia.org/wiki/George_Boole\">George Boole</a>. Do note that True and False should be written with a capital. Booleans are useful for comparing data.\n",
    "\n",
    "The simplest non-scalar data type is a *string*, one or more characters - e.g. \"a\", \"this is text\". In Python you have to put characters between single or double quotes ('  or \"), else Python will think you are using a variable. The difference between a scalar and non-scalar data type is that non-scalar data types have an internal *structure*, for example the number of different words in a string.\n",
    "\n",
    "#### Examples:"
   ],
   "metadata": {}
  },
  {
   "cell_type": "code",
   "execution_count": null,
   "source": [
    "a = 4\n",
    "b = 34.34543\n",
    "c = \"This is a string and the next line too.\"\n",
    "d = \"i\"\n",
    "e = True\n",
    "print(a, b, C)"
   ],
   "outputs": [],
   "metadata": {}
  },
  {
   "cell_type": "markdown",
   "source": [
    "A source of errors is mixing different data types in experssions. While it makes sense to add any two numbers together, it doesn't make much sense to add a number to a string. If you use an expression of a float and an integer, the result will be a float.\n",
    "#### Examples:"
   ],
   "metadata": {}
  },
  {
   "cell_type": "code",
   "execution_count": null,
   "source": [
    "a = 4\n",
    "b = 4.0 # a float so it has a differnt data type then a\n",
    "c = \"a string \"\n",
    "d = \"- another string\"\n",
    "\n",
    "# example expressions\n",
    "print(a * a)\n",
    "print(a * b)\n",
    "print(b * b)\n",
    "print(c * d)\n",
    "print(a * c)\n",
    "print(a * c)\n",
    "print(a + b)"
   ],
   "outputs": [],
   "metadata": {}
  },
  {
   "cell_type": "markdown",
   "source": [
    "As you can see in the examples above the results of the expressions are dependent on the different data types of the values and variables. The multiplication of an integer with a string might surprise you but one could argue that I want to have the string four times.\n",
    "\n",
    "If there is an error in a Jupyter cell the program stops. It will print an error message and the line in your program where the error occured. In this case we get the message that we \"*can't multiply sequence by non-int of type 'float'*\". That kinds of make sense doesn't it? What if b was 4.12, how can you have 0.12 strings?\n",
    "\n",
    "#### Exercise 3:\n",
    "Correct line 12 by commenting it out (put a # at the beginning of the line) and then rerun the cell. What error do you get now?\n",
    "\n",
    "You can check what kind of data type you have with the function *type*:"
   ],
   "metadata": {}
  },
  {
   "cell_type": "code",
   "execution_count": null,
   "source": [
    "a = 12.4\n",
    "a = \"a string\"\n",
    "type(a)"
   ],
   "outputs": [],
   "metadata": {}
  },
  {
   "cell_type": "markdown",
   "source": [
    "You can now compare different variables to see if they have the same type:"
   ],
   "metadata": {}
  },
  {
   "cell_type": "code",
   "execution_count": null,
   "source": [
    "a = 4\n",
    "b = 4.0\n",
    "c = 5.0\n",
    "print(type(a) != type(b))\n",
    "print(type(b) != type(c))\n",
    "print(a == b)"
   ],
   "outputs": [],
   "metadata": {}
  },
  {
   "cell_type": "markdown",
   "source": [
    "### Comparison Operators\n",
    "In the print functions above you see that there is a double equal sign. If you use a single you would use the assignment operator and thus you would try to assign the result from type(b) to type(a). Most likely this will fail...The result of the comparison returns a Bool. In the first print statement we compare an int with a float. Since they don't have the same type, you will get *False* returned.\n",
    "\n",
    "Python has several comparison operators, you probably know still a few from set theory (verzamelingenleer in Dutch):<br>\n",
    "&emsp;&emsp; == &emsp; equal to<br>\n",
    "&emsp;&emsp; != &emsp; not equal to<br>\n",
    "&emsp;&emsp; \\> &emsp; greater than<br>\n",
    "&emsp;&emsp; \\>=  &emsp; greater or equal than<br>\n",
    "&emsp;&emsp; < &emsp; smaller than<br>\n",
    "&emsp;&emsp; <= &emsp; smaller or equal than<br>\n",
    "\n",
    "#### Examples:"
   ],
   "metadata": {}
  },
  {
   "cell_type": "code",
   "execution_count": null,
   "source": [
    "a = 4\n",
    "b = 3\n",
    "c = 7\n",
    "d = 4\n",
    "\n",
    "print(a == d)\n",
    "print(a != b )\n",
    "print(a > c)\n",
    "print(a >= d)\n",
    "\n",
    "# compound expression\n",
    "print((b <= c) and (c > d))"
   ],
   "outputs": [],
   "metadata": {}
  },
  {
   "cell_type": "markdown",
   "source": [
    "### Branching\n",
    "The code we wrote so far is executed line after line. This is called straight line programming. You might be wondering what you can do with straight line programming and the answer is not much. Programs that branch are more interesting. The simplest kind of branch is to test a certain condition and if the condition is met, to perform a certain task. In [pseudo code](https://en.wikipedia.org/wiki/Pseudocode) one could write a branch the following way:\n",
    ">if _condition_ is met do *a* else do _b_\n",
    "\n",
    "In Python one would do it the following way:\n",
    ">**if** *Boolean expression* <b>:</b><br>\n",
    ">&emsp;*block of code for a*<br>\n",
    ">**else:**<br>\n",
    ">&emsp;*block of code for b*\n",
    "\n",
    "#### Example:"
   ],
   "metadata": {}
  },
  {
   "cell_type": "code",
   "execution_count": null,
   "source": [
    "a = 4\n",
    "b = 4.1\n",
    "\n",
    "if (type(a) == type(b)):\n",
    "    print(\"a and b are equal\")\n",
    "else:\n",
    "    print(\"a and b are not equal\")"
   ],
   "outputs": [],
   "metadata": {}
  },
  {
   "cell_type": "markdown",
   "source": [
    "Change <i>b</i> to 4.0 and see what the if block returns. Change <i>b</i> to a string, for example \"bla\" and then see what the if block returns. You see that the code between the <i>if</i> and <i>else</i> statement is *indented*. The indentation is exactly one tab. By indenting the code you tell Python that this group of code belongs together. In the example below, there is a mistake with indentation and Python will give an error:"
   ],
   "metadata": {}
  },
  {
   "cell_type": "code",
   "execution_count": null,
   "source": [
    "a = 4\n",
    "b = 4.1\n",
    "\n",
    "if (a == b):\n",
    "    print(\"a and b are equal\")\n",
    "    print(\"Going horribly wrong\")\n",
    "else:\n",
    "    print(\"a and b are not equal\")"
   ],
   "outputs": [],
   "metadata": {}
  },
  {
   "cell_type": "markdown",
   "source": [
    "You see that the second print statement in the first code block of the if-else statement is printed in red. This should already tell you something is wrong. Can you fix the code?"
   ],
   "metadata": {}
  },
  {
   "cell_type": "markdown",
   "source": [
    "## Answers to Exercises\n",
    "#### Exercise 1:"
   ],
   "metadata": {}
  },
  {
   "cell_type": "code",
   "execution_count": null,
   "source": [
    "# finding an even or odd number, the simple way\n",
    "myNumber = 21347841\n",
    "result = myNumber % 2\n",
    "# if the result is 0 we have an even number, else we have an odd number\n",
    "result"
   ],
   "outputs": [],
   "metadata": {}
  },
  {
   "cell_type": "code",
   "execution_count": null,
   "source": [
    "# finding an even or odd number, a better way\n",
    "myNumber = 21347841\n",
    "if myNumber % 2 == 0:\n",
    "    print(\"even\")\n",
    "else:\n",
    "    print(\"odd\")"
   ],
   "outputs": [],
   "metadata": {}
  },
  {
   "cell_type": "markdown",
   "source": [
    "#### Exercise 2:"
   ],
   "metadata": {}
  },
  {
   "cell_type": "code",
   "execution_count": null,
   "source": [
    "# user input:\n",
    "# load in kN / m\n",
    "q = 5\n",
    "# force in kN\n",
    "F = 7\n",
    "# length of beam in m\n",
    "l = 7.2\n",
    "\n",
    "# constants\n",
    "# Youngs modulus (kg/(m * s^2))\n",
    "E = 210000\n",
    "# moment of inertia of a HE200A (mm^4)\n",
    "I = 36920000\n",
    "\n",
    "# caclulate the reaction forces and deflection\n",
    "reaction_A = 0.5 * (F + q * l)\n",
    "reaction_B = reaction_A\n",
    "# the deflection is measured in mmm, do unit conversion\n",
    "# convert length and F so they use mm and N\n",
    "l = 7.2 * 1000\n",
    "F = F * 1000\n",
    "deflection = F * l**3 / (48 * E * I) + 5 * q * l**4 / (384 * E * I)\n",
    "# print result\n",
    "print(reaction_A)\n",
    "print(deflection)"
   ],
   "outputs": [],
   "metadata": {}
  },
  {
   "cell_type": "markdown",
   "source": [
    "#### Exercise 3:\n",
    "When you change the code you will get another TypeError:\n",
    ">TypeError: unsupported operand type(s) for +: 'int' and 'str'\n",
    "\n",
    "The operand in this case is the addition operand +. Python tells you that it doesn't know how to add an integer to a string."
   ],
   "metadata": {}
  },
  {
   "cell_type": "markdown",
   "source": [
    "### Links\n",
    "http://wiki.bk.tudelft.nl/toi-pedia/BK3OV3_19_20"
   ],
   "metadata": {}
  },
  {
   "cell_type": "markdown",
   "source": [
    "### THE END (of part 1)\n",
    "###### Hans Hoogenboom, Sept. 2020"
   ],
   "metadata": {}
  }
 ],
 "metadata": {
  "kernelspec": {
   "name": "python3",
   "display_name": "Python 3.8.5 64-bit ('earthy': conda)"
  },
  "language_info": {
   "codemirror_mode": {
    "name": "ipython",
    "version": 3
   },
   "file_extension": ".py",
   "mimetype": "text/x-python",
   "name": "python",
   "nbconvert_exporter": "python",
   "pygments_lexer": "ipython3",
   "version": "3.8.5"
  },
  "interpreter": {
   "hash": "6a9983edd6343d9d7472c527d6fcc61324940c388a3481e05c81688fc90d2d61"
  }
 },
 "nbformat": 4,
 "nbformat_minor": 2
}