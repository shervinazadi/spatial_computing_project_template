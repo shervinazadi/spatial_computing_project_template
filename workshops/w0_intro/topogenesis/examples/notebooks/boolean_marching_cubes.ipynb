{
 "cells": [
  {
   "cell_type": "markdown",
   "metadata": {},
   "source": [
    "# Boolean Marching Cube\n",
    "\n",
    "In this notebook we will go through the following process:\n",
    "1. Surface Mesh Sampling\n",
    "2. Voxelization\n",
    "3. Boolean Marching Cube"
   ]
  },
  {
   "cell_type": "markdown",
   "metadata": {},
   "source": [
    "### 0. Initialization\n",
    "import all the necessary libraries and specify all inputs"
   ]
  },
  {
   "cell_type": "code",
   "execution_count": 11,
   "metadata": {
    "tags": []
   },
   "outputs": [],
   "source": [
    "import os               # for path manipulation\n",
    "import topogenesis as tg# core\n",
    "import pyvista as pv    # for plotting and visualizations\n",
    "\n",
    "vs = 0.01               # voxel size \n",
    "unit = [vs,vs,vs]       # unit size\n",
    "tol = 1e-09             # intersection tolerance\n",
    "mesh_path = os.path.relpath('../../data/bunny_lowpoly.obj')\n",
    "original_mesh = tg.geometry.load_mesh(mesh_path)"
   ]
  },
  {
   "cell_type": "markdown",
   "metadata": {},
   "source": [
    "### 1. Mesh Sampling\n",
    "Now that we have everything in place we will run the sampling algorithm to construct a point cloud based on our `original_mesh`"
   ]
  },
  {
   "cell_type": "code",
   "execution_count": 12,
   "metadata": {},
   "outputs": [],
   "source": [
    "sample_cloud = tg.geometry.mesh_sampling(original_mesh, unit, tol=tol)"
   ]
  },
  {
   "cell_type": "markdown",
   "metadata": {},
   "source": [
    "### 2. Voxelization\n",
    "Voxelating the point cloud to construct the lattice"
   ]
  },
  {
   "cell_type": "code",
   "execution_count": 13,
   "metadata": {},
   "outputs": [],
   "source": [
    "lattice = sample_cloud.voxelate(unit, closed=True)"
   ]
  },
  {
   "cell_type": "markdown",
   "metadata": {},
   "source": [
    "### 3. Boolea Marching Cube\n",
    "Costructing the Cube Lattice using the Boolea Marching Cube Algorithm"
   ]
  },
  {
   "cell_type": "code",
   "execution_count": 14,
   "metadata": {
    "tags": []
   },
   "outputs": [],
   "source": [
    "cube_lattice = lattice.boolean_marching_cubes()"
   ]
  },
  {
   "cell_type": "markdown",
   "metadata": {},
   "source": [
    "### 4. Plotting"
   ]
  },
  {
   "cell_type": "code",
   "execution_count": 15,
   "metadata": {},
   "outputs": [
    {
     "output_type": "display_data",
     "data": {
      "text/plain": "ViewInteractiveWidget(height=768, layout=Layout(height='auto', width='100%'), width=1024)",
      "application/vnd.jupyter.widget-view+json": {
       "version_major": 2,
       "version_minor": 0,
       "model_id": "49937c0266014b988003b85b6c3a7285"
      }
     },
     "metadata": {}
    },
    {
     "output_type": "execute_result",
     "data": {
      "text/plain": [
       "[(0.31454920664545444, 0.43454919977229384, 0.3295492035162106),\n",
       " (-0.01499999687075615, 0.10499999625608325, 0.0),\n",
       " (0.0, 0.0, 1.0)]"
      ]
     },
     "metadata": {},
     "execution_count": 15
    }
   ],
   "source": [
    "# initiating the plotter\n",
    "p = pv.Plotter(notebook=True)\n",
    "\n",
    "# visualize tiles\n",
    "p = tg.marching_cube_vis(p, cube_lattice, \"chamfer\")\n",
    "\n",
    "# fast visualization of the lattice\n",
    "p = lattice.fast_vis(p)\n",
    "\n",
    "# adding the base mesh: light blue\n",
    "# mesh = pv.read(geo_path)\n",
    "# p.add_mesh(mesh, show_edges=True, color='#abd8ff', opacity=0.4, label=\"Base Mesh\")\n",
    "\n",
    "# plotting\n",
    "p.show(use_ipyvtk=True)\n"
   ]
  },
  {
   "cell_type": "raw",
   "metadata": {},
   "source": []
  }
 ],
 "metadata": {
  "kernelspec": {
   "name": "Python 3.8.5 64-bit ('tgdev': conda)",
   "display_name": "Python 3.8.5 64-bit ('tgdev': conda)",
   "metadata": {
    "interpreter": {
     "hash": "232c0d2e1ace95119f0f50ab7b77ac3ba9f0cfd8ad5dddf0ba4b7966ca8956d0"
    }
   }
  },
  "language_info": {
   "codemirror_mode": {
    "name": "ipython",
    "version": 3
   },
   "file_extension": ".py",
   "mimetype": "text/x-python",
   "name": "python",
   "nbconvert_exporter": "python",
   "pygments_lexer": "ipython3",
   "version": "3.8.5-final"
  }
 },
 "nbformat": 4,
 "nbformat_minor": 2
}